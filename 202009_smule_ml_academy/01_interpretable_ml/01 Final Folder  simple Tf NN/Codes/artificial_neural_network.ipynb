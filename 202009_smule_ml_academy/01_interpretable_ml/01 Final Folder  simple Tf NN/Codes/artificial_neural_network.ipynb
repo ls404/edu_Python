{
 "cells": [
  {
   "cell_type": "markdown",
   "metadata": {
    "colab_type": "text",
    "id": "3cbb7fRy-eyr"
   },
   "source": [
    "# Artificial Neural Network"
   ]
  },
  {
   "cell_type": "markdown",
   "metadata": {
    "colab_type": "text",
    "id": "8sNDnxE2-pwE"
   },
   "source": [
    "### Importing the libraries"
   ]
  },
  {
   "cell_type": "code",
   "execution_count": 1,
   "metadata": {
    "colab": {},
    "colab_type": "code",
    "id": "lxChR1Rk-umf"
   },
   "outputs": [],
   "source": [
    "import numpy as np\n",
    "import pandas as pd\n",
    "import tensorflow as tf"
   ]
  },
  {
   "cell_type": "code",
   "execution_count": 2,
   "metadata": {
    "colab": {
     "base_uri": "https://localhost:8080/",
     "height": 34
    },
    "colab_type": "code",
    "id": "uBTqR3nacj0e",
    "outputId": "4c0bd183-e424-429a-9fba-ceb841c06888"
   },
   "outputs": [
    {
     "data": {
      "text/plain": [
       "'2.0.0'"
      ]
     },
     "execution_count": 2,
     "metadata": {},
     "output_type": "execute_result"
    }
   ],
   "source": [
    "tf.__version__"
   ]
  },
  {
   "cell_type": "markdown",
   "metadata": {
    "colab_type": "text",
    "id": "AG3FQEch-yuA"
   },
   "source": [
    "## Part 1 - Data Preprocessing"
   ]
  },
  {
   "cell_type": "markdown",
   "metadata": {
    "colab_type": "text",
    "id": "-4zq8Mza_D9O"
   },
   "source": [
    "### Importing the dataset"
   ]
  },
  {
   "cell_type": "code",
   "execution_count": 3,
   "metadata": {
    "colab": {},
    "colab_type": "code",
    "id": "B9CV13Co_HHM"
   },
   "outputs": [],
   "source": [
    "dataset = pd.read_excel('Folds5x2_pp.xlsx')\n",
    "X = dataset.iloc[:, :-1].values\n",
    "y = dataset.iloc[:, -1].values"
   ]
  },
  {
   "cell_type": "markdown",
   "metadata": {
    "colab_type": "text",
    "id": "VC6omXel_Up0"
   },
   "source": [
    "### Splitting the dataset into the Training set and Test set"
   ]
  },
  {
   "cell_type": "code",
   "execution_count": 4,
   "metadata": {
    "colab": {},
    "colab_type": "code",
    "id": "L5edeb2r_agx"
   },
   "outputs": [],
   "source": [
    "from sklearn.model_selection import train_test_split\n",
    "X_train, X_test, y_train, y_test = train_test_split(X, y, test_size = 0.2, random_state = 0)"
   ]
  },
  {
   "cell_type": "markdown",
   "metadata": {
    "colab_type": "text",
    "id": "_mSLlAT9_eyI"
   },
   "source": [
    "## Part 2 - Building the ANN"
   ]
  },
  {
   "cell_type": "markdown",
   "metadata": {
    "colab_type": "text",
    "id": "CsBULd_f_wLY"
   },
   "source": [
    "### Initializing the ANN"
   ]
  },
  {
   "cell_type": "code",
   "execution_count": 5,
   "metadata": {
    "colab": {},
    "colab_type": "code",
    "id": "J6Hd97Ls__Nz"
   },
   "outputs": [],
   "source": [
    "ann = tf.keras.models.Sequential()"
   ]
  },
  {
   "cell_type": "markdown",
   "metadata": {
    "colab_type": "text",
    "id": "iitAFJS_ABUn"
   },
   "source": [
    "### Adding the input layer and the first hidden layer"
   ]
  },
  {
   "cell_type": "code",
   "execution_count": 6,
   "metadata": {
    "colab": {},
    "colab_type": "code",
    "id": "ksO_Vv40AHix"
   },
   "outputs": [],
   "source": [
    "ann.add(tf.keras.layers.Dense(units=6, activation='relu'))"
   ]
  },
  {
   "cell_type": "markdown",
   "metadata": {
    "colab_type": "text",
    "id": "-lb4kK_wAKbs"
   },
   "source": [
    "### Adding the second hidden layer"
   ]
  },
  {
   "cell_type": "code",
   "execution_count": 7,
   "metadata": {
    "colab": {},
    "colab_type": "code",
    "id": "c2357OqEAQOQ"
   },
   "outputs": [],
   "source": [
    "ann.add(tf.keras.layers.Dense(units=6, activation='relu'))"
   ]
  },
  {
   "cell_type": "markdown",
   "metadata": {
    "colab_type": "text",
    "id": "jwMOmKb3AdBY"
   },
   "source": [
    "### Adding the output layer"
   ]
  },
  {
   "cell_type": "code",
   "execution_count": 8,
   "metadata": {
    "colab": {},
    "colab_type": "code",
    "id": "YFATpzsUAkLL"
   },
   "outputs": [],
   "source": [
    "ann.add(tf.keras.layers.Dense(units=1))"
   ]
  },
  {
   "cell_type": "markdown",
   "metadata": {
    "colab_type": "text",
    "id": "fq7e4fF6A1yy"
   },
   "source": [
    "## Part 3 - Training the ANN"
   ]
  },
  {
   "cell_type": "markdown",
   "metadata": {
    "colab_type": "text",
    "id": "qDeylAs2An25"
   },
   "source": [
    "### Compiling the ANN"
   ]
  },
  {
   "cell_type": "code",
   "execution_count": 9,
   "metadata": {
    "colab": {},
    "colab_type": "code",
    "id": "pesgbWlCAtB4"
   },
   "outputs": [],
   "source": [
    "ann.compile(optimizer = 'adam', loss = 'mean_squared_error')"
   ]
  },
  {
   "cell_type": "markdown",
   "metadata": {
    "colab_type": "text",
    "id": "YjVuiybYOo7r"
   },
   "source": [
    "### Training the ANN model on the Training set"
   ]
  },
  {
   "cell_type": "code",
   "execution_count": 10,
   "metadata": {
    "colab": {
     "base_uri": "https://localhost:8080/",
     "height": 1000
    },
    "colab_type": "code",
    "id": "c_vV-tiiA5zn",
    "outputId": "4a2b6ee6-ed75-4698-9069-b250e613803f"
   },
   "outputs": [
    {
     "name": "stdout",
     "output_type": "stream",
     "text": [
      "Train on 7654 samples\n",
      "Epoch 1/100\n",
      "7654/7654 [==============================] - 1s 153us/sample - loss: 54837.3172\n",
      "Epoch 2/100\n",
      "7654/7654 [==============================] - 0s 54us/sample - loss: 361.4033\n",
      "Epoch 3/100\n",
      "7654/7654 [==============================] - 0s 54us/sample - loss: 353.4897\n",
      "Epoch 4/100\n",
      "7654/7654 [==============================] - 0s 55us/sample - loss: 343.7729\n",
      "Epoch 5/100\n",
      "7654/7654 [==============================] - 0s 54us/sample - loss: 332.5973\n",
      "Epoch 6/100\n",
      "7654/7654 [==============================] - 0s 58us/sample - loss: 319.2958\n",
      "Epoch 7/100\n",
      "7654/7654 [==============================] - 0s 54us/sample - loss: 304.7424\n",
      "Epoch 8/100\n",
      "7654/7654 [==============================] - 0s 55us/sample - loss: 288.7674\n",
      "Epoch 9/100\n",
      "7654/7654 [==============================] - 0s 58us/sample - loss: 271.5551\n",
      "Epoch 10/100\n",
      "7654/7654 [==============================] - 0s 56us/sample - loss: 254.0541\n",
      "Epoch 11/100\n",
      "7654/7654 [==============================] - 0s 54us/sample - loss: 235.3039\n",
      "Epoch 12/100\n",
      "7654/7654 [==============================] - 0s 57us/sample - loss: 216.7700\n",
      "Epoch 13/100\n",
      "7654/7654 [==============================] - 0s 56us/sample - loss: 198.0460\n",
      "Epoch 14/100\n",
      "7654/7654 [==============================] - 0s 58us/sample - loss: 178.9994\n",
      "Epoch 15/100\n",
      "7654/7654 [==============================] - 0s 56us/sample - loss: 161.3861\n",
      "Epoch 16/100\n",
      "7654/7654 [==============================] - 0s 56us/sample - loss: 143.6074\n",
      "Epoch 17/100\n",
      "7654/7654 [==============================] - 0s 55us/sample - loss: 127.3000\n",
      "Epoch 18/100\n",
      "7654/7654 [==============================] - 0s 56us/sample - loss: 112.7955\n",
      "Epoch 19/100\n",
      "7654/7654 [==============================] - 0s 56us/sample - loss: 99.4388\n",
      "Epoch 20/100\n",
      "7654/7654 [==============================] - 0s 58us/sample - loss: 87.8107\n",
      "Epoch 21/100\n",
      "7654/7654 [==============================] - 0s 57us/sample - loss: 77.2020\n",
      "Epoch 22/100\n",
      "7654/7654 [==============================] - 0s 58us/sample - loss: 68.3515\n",
      "Epoch 23/100\n",
      "7654/7654 [==============================] - 0s 57us/sample - loss: 61.4127\n",
      "Epoch 24/100\n",
      "7654/7654 [==============================] - 0s 54us/sample - loss: 55.5036\n",
      "Epoch 25/100\n",
      "7654/7654 [==============================] - 0s 51us/sample - loss: 50.6026\n",
      "Epoch 26/100\n",
      "7654/7654 [==============================] - 0s 59us/sample - loss: 46.4895\n",
      "Epoch 27/100\n",
      "7654/7654 [==============================] - 0s 61us/sample - loss: 43.8574\n",
      "Epoch 28/100\n",
      "7654/7654 [==============================] - 0s 58us/sample - loss: 41.3765\n",
      "Epoch 29/100\n",
      "7654/7654 [==============================] - 0s 54us/sample - loss: 38.6867\n",
      "Epoch 30/100\n",
      "7654/7654 [==============================] - 0s 61us/sample - loss: 37.0050\n",
      "Epoch 31/100\n",
      "7654/7654 [==============================] - 0s 55us/sample - loss: 35.7621\n",
      "Epoch 32/100\n",
      "7654/7654 [==============================] - 0s 57us/sample - loss: 34.9064\n",
      "Epoch 33/100\n",
      "7654/7654 [==============================] - 0s 58us/sample - loss: 34.0772\n",
      "Epoch 34/100\n",
      "7654/7654 [==============================] - 0s 57us/sample - loss: 33.4595\n",
      "Epoch 35/100\n",
      "7654/7654 [==============================] - 0s 59us/sample - loss: 32.8064\n",
      "Epoch 36/100\n",
      "7654/7654 [==============================] - 0s 54us/sample - loss: 31.9631\n",
      "Epoch 37/100\n",
      "7654/7654 [==============================] - 0s 54us/sample - loss: 31.9843\n",
      "Epoch 38/100\n",
      "7654/7654 [==============================] - 0s 55us/sample - loss: 31.5966\n",
      "Epoch 39/100\n",
      "7654/7654 [==============================] - 0s 58us/sample - loss: 31.0020\n",
      "Epoch 40/100\n",
      "7654/7654 [==============================] - 0s 58us/sample - loss: 30.6660\n",
      "Epoch 41/100\n",
      "7654/7654 [==============================] - 0s 61us/sample - loss: 30.4543\n",
      "Epoch 42/100\n",
      "7654/7654 [==============================] - 0s 59us/sample - loss: 30.3731\n",
      "Epoch 43/100\n",
      "7654/7654 [==============================] - 0s 57us/sample - loss: 29.6800\n",
      "Epoch 44/100\n",
      "7654/7654 [==============================] - 0s 55us/sample - loss: 29.9335\n",
      "Epoch 45/100\n",
      "7654/7654 [==============================] - 0s 58us/sample - loss: 29.2284\n",
      "Epoch 46/100\n",
      "7654/7654 [==============================] - 0s 54us/sample - loss: 30.0172\n",
      "Epoch 47/100\n",
      "7654/7654 [==============================] - 0s 58us/sample - loss: 28.7305\n",
      "Epoch 48/100\n",
      "7654/7654 [==============================] - 0s 57us/sample - loss: 29.2391\n",
      "Epoch 49/100\n",
      "7654/7654 [==============================] - 0s 60us/sample - loss: 29.3117\n",
      "Epoch 50/100\n",
      "7654/7654 [==============================] - 0s 56us/sample - loss: 29.0188\n",
      "Epoch 51/100\n",
      "7654/7654 [==============================] - 0s 56us/sample - loss: 28.3029\n",
      "Epoch 52/100\n",
      "7654/7654 [==============================] - 0s 55us/sample - loss: 28.8746\n",
      "Epoch 53/100\n",
      "7654/7654 [==============================] - 0s 58us/sample - loss: 28.5120\n",
      "Epoch 54/100\n",
      "7654/7654 [==============================] - 0s 57us/sample - loss: 27.9891\n",
      "Epoch 55/100\n",
      "7654/7654 [==============================] - 0s 59us/sample - loss: 28.1101\n",
      "Epoch 56/100\n",
      "7654/7654 [==============================] - 0s 57us/sample - loss: 28.0020\n",
      "Epoch 57/100\n",
      "7654/7654 [==============================] - 0s 59us/sample - loss: 27.5427\n",
      "Epoch 58/100\n",
      "7654/7654 [==============================] - 0s 52us/sample - loss: 28.1272\n",
      "Epoch 59/100\n",
      "7654/7654 [==============================] - 0s 57us/sample - loss: 27.4680\n",
      "Epoch 60/100\n",
      "7654/7654 [==============================] - 0s 54us/sample - loss: 27.8922\n",
      "Epoch 61/100\n",
      "7654/7654 [==============================] - 0s 55us/sample - loss: 27.7479\n",
      "Epoch 62/100\n",
      "7654/7654 [==============================] - 0s 55us/sample - loss: 27.5075\n",
      "Epoch 63/100\n",
      "7654/7654 [==============================] - 0s 59us/sample - loss: 27.3671\n",
      "Epoch 64/100\n",
      "7654/7654 [==============================] - 0s 60us/sample - loss: 27.7138\n",
      "Epoch 65/100\n",
      "7654/7654 [==============================] - 0s 57us/sample - loss: 28.2112\n",
      "Epoch 66/100\n",
      "7654/7654 [==============================] - 0s 58us/sample - loss: 27.1742\n",
      "Epoch 67/100\n",
      "7654/7654 [==============================] - 0s 57us/sample - loss: 27.1411\n",
      "Epoch 68/100\n",
      "7654/7654 [==============================] - 0s 58us/sample - loss: 27.2284\n",
      "Epoch 69/100\n",
      "7654/7654 [==============================] - 0s 58us/sample - loss: 27.3085\n",
      "Epoch 70/100\n",
      "7654/7654 [==============================] - 0s 52us/sample - loss: 27.3046\n",
      "Epoch 71/100\n",
      "7654/7654 [==============================] - 0s 54us/sample - loss: 27.7521\n",
      "Epoch 72/100\n",
      "7654/7654 [==============================] - 0s 58us/sample - loss: 27.3010\n",
      "Epoch 73/100\n",
      "7654/7654 [==============================] - 0s 60us/sample - loss: 26.6930\n",
      "Epoch 74/100\n",
      "7654/7654 [==============================] - 0s 59us/sample - loss: 27.3126\n",
      "Epoch 75/100\n",
      "7654/7654 [==============================] - 0s 59us/sample - loss: 27.0325\n",
      "Epoch 76/100\n",
      "7654/7654 [==============================] - 0s 58us/sample - loss: 27.0372\n",
      "Epoch 77/100\n",
      "7654/7654 [==============================] - 0s 61us/sample - loss: 26.7567\n",
      "Epoch 78/100\n",
      "7654/7654 [==============================] - 0s 60us/sample - loss: 27.3411\n",
      "Epoch 79/100\n",
      "7654/7654 [==============================] - 0s 59us/sample - loss: 27.1187\n",
      "Epoch 80/100\n",
      "7654/7654 [==============================] - 0s 57us/sample - loss: 27.1350\n",
      "Epoch 81/100\n",
      "7654/7654 [==============================] - 0s 59us/sample - loss: 27.2212\n",
      "Epoch 82/100\n",
      "7654/7654 [==============================] - 0s 57us/sample - loss: 27.0155\n",
      "Epoch 83/100\n",
      "7654/7654 [==============================] - 0s 61us/sample - loss: 26.6723\n",
      "Epoch 84/100\n",
      "7654/7654 [==============================] - 0s 58us/sample - loss: 27.1171\n",
      "Epoch 85/100\n",
      "7654/7654 [==============================] - 0s 51us/sample - loss: 26.5821\n",
      "Epoch 86/100\n",
      "7654/7654 [==============================] - 0s 60us/sample - loss: 27.4862\n",
      "Epoch 87/100\n",
      "7654/7654 [==============================] - 0s 60us/sample - loss: 26.4352\n",
      "Epoch 88/100\n",
      "7654/7654 [==============================] - 0s 55us/sample - loss: 26.8370\n",
      "Epoch 89/100\n",
      "7654/7654 [==============================] - 0s 59us/sample - loss: 27.0399\n",
      "Epoch 90/100\n",
      "7654/7654 [==============================] - 0s 57us/sample - loss: 26.9725\n",
      "Epoch 91/100\n",
      "7654/7654 [==============================] - 0s 58us/sample - loss: 26.7553\n",
      "Epoch 92/100\n",
      "7654/7654 [==============================] - 0s 60us/sample - loss: 26.8832\n",
      "Epoch 93/100\n",
      "7654/7654 [==============================] - 0s 61us/sample - loss: 26.6443\n",
      "Epoch 94/100\n",
      "7654/7654 [==============================] - 0s 59us/sample - loss: 27.2194\n",
      "Epoch 95/100\n",
      "7654/7654 [==============================] - 0s 58us/sample - loss: 26.7570\n",
      "Epoch 96/100\n",
      "7654/7654 [==============================] - 0s 55us/sample - loss: 27.0506\n",
      "Epoch 97/100\n",
      "7654/7654 [==============================] - 0s 57us/sample - loss: 26.6219\n",
      "Epoch 98/100\n",
      "7654/7654 [==============================] - 0s 58us/sample - loss: 26.8179\n",
      "Epoch 99/100\n",
      "7654/7654 [==============================] - 0s 59us/sample - loss: 26.6056\n",
      "Epoch 100/100\n",
      "7654/7654 [==============================] - 0s 58us/sample - loss: 26.6992\n"
     ]
    },
    {
     "data": {
      "text/plain": [
       "<tensorflow.python.keras.callbacks.History at 0x7f4e81636610>"
      ]
     },
     "execution_count": 10,
     "metadata": {},
     "output_type": "execute_result"
    }
   ],
   "source": [
    "ann.fit(X_train, y_train, batch_size = 32, epochs = 100)"
   ]
  },
  {
   "cell_type": "markdown",
   "metadata": {
    "colab_type": "text",
    "id": "0H0zKKNEBLD5"
   },
   "source": [
    "### Predicting the results of the Test set"
   ]
  },
  {
   "cell_type": "code",
   "execution_count": null,
   "metadata": {
    "colab": {
     "base_uri": "https://localhost:8080/",
     "height": 134
    },
    "colab_type": "code",
    "id": "IA0yApEmBG1X",
    "outputId": "cb981e1f-9204-4a2a-fece-9d66a6919189"
   },
   "outputs": [],
   "source": [
    "y_pred = ann.predict(X_test)\n",
    "np.set_printoptions(precision=2)\n",
    "print(np.concatenate((y_pred.reshape(len(y_pred),1), y_test.reshape(len(y_test),1)),1))"
   ]
  },
  {
   "cell_type": "code",
   "execution_count": null,
   "metadata": {
    "collapsed": false,
    "jupyter": {
     "outputs_hidden": false
    },
    "pycharm": {
     "name": "#%%\n"
    }
   },
   "outputs": [],
   "source": []
  },
  {
   "cell_type": "code",
   "execution_count": null,
   "metadata": {},
   "outputs": [],
   "source": []
  }
 ],
 "metadata": {
  "colab": {
   "collapsed_sections": [],
   "name": "Artificial Neural Network",
   "provenance": [],
   "toc_visible": true
  },
  "kernelspec": {
   "display_name": "Python 3",
   "language": "python",
   "name": "python3"
  },
  "language_info": {
   "codemirror_mode": {
    "name": "ipython",
    "version": 3
   },
   "file_extension": ".py",
   "mimetype": "text/x-python",
   "name": "python",
   "nbconvert_exporter": "python",
   "pygments_lexer": "ipython3",
   "version": "3.7.9"
  }
 },
 "nbformat": 4,
 "nbformat_minor": 4
}
