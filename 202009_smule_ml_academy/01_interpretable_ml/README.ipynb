{
 "cells": [
  {
   "cell_type": "markdown",
   "metadata": {},
   "source": [
    "# Frature importance"
   ]
  },
  {
   "cell_type": "markdown",
   "metadata": {},
   "source": [
    "## Kaggle sources\n",
    "\n",
    "- lightgbm,gc,shap [feature-importance-and-dependence-plot-with-shap](https://www.kaggle.com/cast42/feature-importance-and-dependence-plot-with-shap)\n",
    "- torch, shap [SHAP Deep Explainer (Pytorch Ver)](https://www.kaggle.com/subinium/shap-deep-explainer-pytorch-ver)"
   ]
  },
  {
   "cell_type": "markdown",
   "metadata": {},
   "source": [
    "## GH sources [>>>](https://github.com/search?l=Jupyter+Notebook&p=2&q=Feature+Interactions&type=Repositories)\n",
    "* path_explain, tf, cool summary graph [suinleelab/path_explain](https://github.com/suinleelab/path_explain)\n",
    "* torch [Feature Interaction Interpretability via Interaction Detection](https://github.com/mtsang/interaction_interpretability)\n",
    "* ibreakdown (shap or lime with uncertainty, sklearn [ibreakdown](https://github.com/jettify/ibreakdown)\n",
    "* tf2?, cool, master thesis [master-thesis Field-weighted Factorization Machine](https://github.com/rejasupotaro/master-thesis/blob/master/notebooks/fwfm.ipynb) - [https://arxiv.org/abs/1806.03514](https://arxiv.org/abs/1806.03514)\n",
    "* Sporipy, sklearn [SpotufyML feature importance and interactions between global and personal song preferences](https://github.com/jlogg123/Spotify_ML/blob/master/Spotify_ML.ipynb)"
   ]
  },
  {
   "cell_type": "markdown",
   "metadata": {},
   "source": [
    "## Explainer libraries:\n",
    "- [ibreakdown](https://github.com/jettify/ibreakdown)\n",
    "- [lime](https://github.com/marcotcr/lime)\n",
    "- [shap](https://github.com/slundberg/shap)\n",
    " * [shap pytorch example](https://data-newbie.tistory.com/433)\n",
    " * **NB!!** Compare ML model interpretability vs accuracy[How SHAP Can Keep You From Black Box AI](https://sefiks.com/2019/07/01/how-shap-can-keep-you-from-black-box-ai/)\n",
    "- [strax](https://github.com/parrt/stratx)\n",
    "- [captum - explainer for pytorch](https://captum.ai/)\n",
    " * **NB!!!** [Algorythms comparisson matrix](https://captum.ai/docs/algorithms_comparison_matrix)\n",
    " * [example](https://pythonawesome.com/model-interpretability-and-understanding-for-pytorch/)"
   ]
  },
  {
   "cell_type": "markdown",
   "metadata": {},
   "source": [
    "# Interesting offtipoc findings\n",
    "* recommender [DeepFM](https://arxiv.org/abs/1703.04247)\n",
    "* graphs [youtube-channel-analysis](https://github.com/DanOvad/youtube-channel-analysis)\n",
    "* (the incredible pytorch incl. explainers)[https://www.ritchieng.com/the-incredible-pytorch/#Explainability]\n"
   ]
  },
  {
   "cell_type": "markdown",
   "metadata": {},
   "source": [
    "## Tasks\n",
    "- [ ] Check my musin taste with SpotifyML (incl. fix my account)\n",
    "- [ ] Play with captum regression example\n",
    "- [ ] Adapt captum regression example to Stackoverflow survey (Flutter without Dart)"
   ]
  },
  {
   "cell_type": "markdown",
   "metadata": {},
   "source": [
    "## Misc\n",
    "* [how-to-prepare-categorical-data-for-deep-learning-in-python](https://machinelearningmastery.com/how-to-prepare-categorical-data-for-deep-learning-in-python/)\n",
    "\n",
    "* [5-ways-handle-missing-values-machine-learning-datasets](https://analyticsindiamag.com/5-ways-handle-missing-values-machine-learning-datasets/)"
   ]
  },
  {
   "cell_type": "code",
   "execution_count": null,
   "metadata": {},
   "outputs": [],
   "source": []
  }
 ],
 "metadata": {
  "kernelspec": {
   "display_name": "Python 3",
   "language": "python",
   "name": "python3"
  },
  "language_info": {
   "codemirror_mode": {
    "name": "ipython",
    "version": 3
   },
   "file_extension": ".py",
   "mimetype": "text/x-python",
   "name": "python",
   "nbconvert_exporter": "python",
   "pygments_lexer": "ipython3",
   "version": "3.7.9"
  }
 },
 "nbformat": 4,
 "nbformat_minor": 4
}
