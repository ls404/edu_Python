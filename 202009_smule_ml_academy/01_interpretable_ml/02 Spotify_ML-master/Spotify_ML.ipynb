{
 "cells": [
  {
   "cell_type": "markdown",
   "metadata": {},
   "source": [
    "# Necessary Packages"
   ]
  },
  {
   "cell_type": "code",
   "execution_count": 1,
   "metadata": {},
   "outputs": [],
   "source": [
    "# Data-handeling/mathmatic packages\n",
    "import numpy as np\n",
    "import pandas as pd\n",
    "import operator\n",
    "\n",
    "\n",
    "# Plotting packages\n",
    "import matplotlib.pyplot as plt\n",
    "import seaborn as sns\n",
    "\n",
    "#Spotipy utilized packages\n",
    "import os\n",
    "import sys\n",
    "import spotipy\n",
    "sp = spotipy.Spotify()\n",
    "from spotipy.oauth2 import SpotifyClientCredentials\n",
    "\n",
    "# Machine learning packages\n",
    "# from sklearn import preprocessing, cross_validation, datasets\n",
    "from sklearn import preprocessing,  datasets\n",
    "from sklearn.model_selection import cross_validate as cross_validation\n",
    "from sklearn.utils import resample\n",
    "from sklearn.linear_model import LogisticRegressionCV\n",
    "# from sklearn.cross_validation import train_test_split\n",
    "from sklearn.model_selection import train_test_split\n",
    "from sklearn.ensemble import RandomForestClassifier\n",
    "from sklearn.tree import DecisionTreeClassifier\n",
    "from sklearn.metrics import classification_report, confusion_matrix"
   ]
  },
  {
   "cell_type": "markdown",
   "metadata": {},
   "source": [
    "# Data Collection"
   ]
  },
  {
   "cell_type": "code",
   "execution_count": 2,
   "metadata": {},
   "outputs": [
    {
     "name": "stderr",
     "output_type": "stream",
     "text": [
      "ERROR:root:Internal Python error in the inspect module.\n",
      "Below is the traceback from this internal error.\n",
      "\n"
     ]
    },
    {
     "name": "stdout",
     "output_type": "stream",
     "text": [
      "Error in input varibles\n",
      "Traceback (most recent call last):\n",
      "  File \"<ipython-input-2-82924511511b>\", line 10, in spotify\n",
      "    client_credentials_manager = SpotifyClientCredentials(client_id=cid, client_secret=secret)\n",
      "  File \"/opt/anaconda/envs/MLCourse/lib/python3.7/site-packages/spotipy/oauth2.py\", line 157, in __init__\n",
      "    self.client_id = client_id\n",
      "  File \"/opt/anaconda/envs/MLCourse/lib/python3.7/site-packages/spotipy/oauth2.py\", line 109, in client_id\n",
      "    self._client_id = _ensure_value(val, \"client_id\")\n",
      "  File \"/opt/anaconda/envs/MLCourse/lib/python3.7/site-packages/spotipy/oauth2.py\", line 77, in _ensure_value\n",
      "    raise SpotifyOauthError(msg)\n",
      "spotipy.oauth2.SpotifyOauthError: No client_id. Pass it or set a SPOTIPY_CLIENT_ID environment variable.\n",
      "\n",
      "During handling of the above exception, another exception occurred:\n",
      "\n",
      "Traceback (most recent call last):\n",
      "  File \"/opt/anaconda/envs/MLCourse/lib/python3.7/site-packages/IPython/core/interactiveshell.py\", line 3417, in run_code\n",
      "    exec(code_obj, self.user_global_ns, self.user_ns)\n",
      "  File \"<ipython-input-2-82924511511b>\", line 50, in <module>\n",
      "    spotify(cid, secret, username, playlistid)\n",
      "  File \"<ipython-input-2-82924511511b>\", line 41, in spotify\n",
      "    sys.exit()\n",
      "SystemExit\n",
      "\n",
      "During handling of the above exception, another exception occurred:\n",
      "\n",
      "Traceback (most recent call last):\n",
      "  File \"/opt/anaconda/envs/MLCourse/lib/python3.7/site-packages/IPython/core/ultratb.py\", line 1169, in get_records\n",
      "    return _fixed_getinnerframes(etb, number_of_lines_of_context, tb_offset)\n",
      "  File \"/opt/anaconda/envs/MLCourse/lib/python3.7/site-packages/IPython/core/ultratb.py\", line 316, in wrapped\n",
      "    return f(*args, **kwargs)\n",
      "  File \"/opt/anaconda/envs/MLCourse/lib/python3.7/site-packages/IPython/core/ultratb.py\", line 350, in _fixed_getinnerframes\n",
      "    records = fix_frame_records_filenames(inspect.getinnerframes(etb, context))\n",
      "  File \"/opt/anaconda/envs/MLCourse/lib/python3.7/inspect.py\", line 1502, in getinnerframes\n",
      "    frameinfo = (tb.tb_frame,) + getframeinfo(tb, context)\n",
      "AttributeError: 'tuple' object has no attribute 'tb_frame'\n"
     ]
    },
    {
     "ename": "TypeError",
     "evalue": "object of type 'NoneType' has no len()",
     "output_type": "error",
     "traceback": [
      "\u001B[0;31m---------------------------------------------------------------------------\u001B[0m",
      "\u001B[0;31mSpotifyOauthError\u001B[0m                         Traceback (most recent call last)",
      "\u001B[0;32m<ipython-input-2-82924511511b>\u001B[0m in \u001B[0;36mspotify\u001B[0;34m(cid, secret, username, playlistid)\u001B[0m\n\u001B[1;32m      9\u001B[0m         \u001B[0;32mtry\u001B[0m\u001B[0;34m:\u001B[0m\u001B[0;34m\u001B[0m\u001B[0;34m\u001B[0m\u001B[0m\n\u001B[0;32m---> 10\u001B[0;31m                 \u001B[0mclient_credentials_manager\u001B[0m \u001B[0;34m=\u001B[0m \u001B[0mSpotifyClientCredentials\u001B[0m\u001B[0;34m(\u001B[0m\u001B[0mclient_id\u001B[0m\u001B[0;34m=\u001B[0m\u001B[0mcid\u001B[0m\u001B[0;34m,\u001B[0m \u001B[0mclient_secret\u001B[0m\u001B[0;34m=\u001B[0m\u001B[0msecret\u001B[0m\u001B[0;34m)\u001B[0m\u001B[0;34m\u001B[0m\u001B[0;34m\u001B[0m\u001B[0m\n\u001B[0m\u001B[1;32m     11\u001B[0m                 \u001B[0msp\u001B[0m \u001B[0;34m=\u001B[0m \u001B[0mspotipy\u001B[0m\u001B[0;34m.\u001B[0m\u001B[0mSpotify\u001B[0m\u001B[0;34m(\u001B[0m\u001B[0mclient_credentials_manager\u001B[0m\u001B[0;34m=\u001B[0m\u001B[0mclient_credentials_manager\u001B[0m\u001B[0;34m)\u001B[0m\u001B[0;34m\u001B[0m\u001B[0;34m\u001B[0m\u001B[0m\n",
      "\u001B[0;32m/opt/anaconda/envs/MLCourse/lib/python3.7/site-packages/spotipy/oauth2.py\u001B[0m in \u001B[0;36m__init__\u001B[0;34m(self, client_id, client_secret, proxies, requests_session, requests_timeout)\u001B[0m\n\u001B[1;32m    156\u001B[0m \u001B[0;34m\u001B[0m\u001B[0m\n\u001B[0;32m--> 157\u001B[0;31m         \u001B[0mself\u001B[0m\u001B[0;34m.\u001B[0m\u001B[0mclient_id\u001B[0m \u001B[0;34m=\u001B[0m \u001B[0mclient_id\u001B[0m\u001B[0;34m\u001B[0m\u001B[0;34m\u001B[0m\u001B[0m\n\u001B[0m\u001B[1;32m    158\u001B[0m         \u001B[0mself\u001B[0m\u001B[0;34m.\u001B[0m\u001B[0mclient_secret\u001B[0m \u001B[0;34m=\u001B[0m \u001B[0mclient_secret\u001B[0m\u001B[0;34m\u001B[0m\u001B[0;34m\u001B[0m\u001B[0m\n",
      "\u001B[0;32m/opt/anaconda/envs/MLCourse/lib/python3.7/site-packages/spotipy/oauth2.py\u001B[0m in \u001B[0;36mclient_id\u001B[0;34m(self, val)\u001B[0m\n\u001B[1;32m    108\u001B[0m     \u001B[0;32mdef\u001B[0m \u001B[0mclient_id\u001B[0m\u001B[0;34m(\u001B[0m\u001B[0mself\u001B[0m\u001B[0;34m,\u001B[0m \u001B[0mval\u001B[0m\u001B[0;34m)\u001B[0m\u001B[0;34m:\u001B[0m\u001B[0;34m\u001B[0m\u001B[0;34m\u001B[0m\u001B[0m\n\u001B[0;32m--> 109\u001B[0;31m         \u001B[0mself\u001B[0m\u001B[0;34m.\u001B[0m\u001B[0m_client_id\u001B[0m \u001B[0;34m=\u001B[0m \u001B[0m_ensure_value\u001B[0m\u001B[0;34m(\u001B[0m\u001B[0mval\u001B[0m\u001B[0;34m,\u001B[0m \u001B[0;34m\"client_id\"\u001B[0m\u001B[0;34m)\u001B[0m\u001B[0;34m\u001B[0m\u001B[0;34m\u001B[0m\u001B[0m\n\u001B[0m\u001B[1;32m    110\u001B[0m \u001B[0;34m\u001B[0m\u001B[0m\n",
      "\u001B[0;32m/opt/anaconda/envs/MLCourse/lib/python3.7/site-packages/spotipy/oauth2.py\u001B[0m in \u001B[0;36m_ensure_value\u001B[0;34m(value, env_key)\u001B[0m\n\u001B[1;32m     76\u001B[0m         )\n\u001B[0;32m---> 77\u001B[0;31m         \u001B[0;32mraise\u001B[0m \u001B[0mSpotifyOauthError\u001B[0m\u001B[0;34m(\u001B[0m\u001B[0mmsg\u001B[0m\u001B[0;34m)\u001B[0m\u001B[0;34m\u001B[0m\u001B[0;34m\u001B[0m\u001B[0m\n\u001B[0m\u001B[1;32m     78\u001B[0m     \u001B[0;32mreturn\u001B[0m \u001B[0m_val\u001B[0m\u001B[0;34m\u001B[0m\u001B[0;34m\u001B[0m\u001B[0m\n",
      "\u001B[0;31mSpotifyOauthError\u001B[0m: No client_id. Pass it or set a SPOTIPY_CLIENT_ID environment variable.",
      "\nDuring handling of the above exception, another exception occurred:\n",
      "\u001B[0;31mSystemExit\u001B[0m                                Traceback (most recent call last)",
      "    \u001B[0;31m[... skipping hidden 1 frame]\u001B[0m\n",
      "\u001B[0;32m<ipython-input-2-82924511511b>\u001B[0m in \u001B[0;36m<module>\u001B[0;34m\u001B[0m\n\u001B[1;32m     49\u001B[0m         \u001B[0mplaylistid2\u001B[0m \u001B[0;34m=\u001B[0m \u001B[0;34m''\u001B[0m\u001B[0;34m\u001B[0m\u001B[0;34m\u001B[0m\u001B[0m\n\u001B[0;32m---> 50\u001B[0;31m         \u001B[0mspotify\u001B[0m\u001B[0;34m(\u001B[0m\u001B[0mcid\u001B[0m\u001B[0;34m,\u001B[0m \u001B[0msecret\u001B[0m\u001B[0;34m,\u001B[0m \u001B[0musername\u001B[0m\u001B[0;34m,\u001B[0m \u001B[0mplaylistid\u001B[0m\u001B[0;34m)\u001B[0m\u001B[0;34m\u001B[0m\u001B[0;34m\u001B[0m\u001B[0m\n\u001B[0m\u001B[1;32m     51\u001B[0m \u001B[0;34m\u001B[0m\u001B[0m\n",
      "\u001B[0;32m<ipython-input-2-82924511511b>\u001B[0m in \u001B[0;36mspotify\u001B[0;34m(cid, secret, username, playlistid)\u001B[0m\n\u001B[1;32m     40\u001B[0m                 \u001B[0mprint\u001B[0m\u001B[0;34m(\u001B[0m\u001B[0;34m'Error in input varibles'\u001B[0m\u001B[0;34m)\u001B[0m\u001B[0;34m\u001B[0m\u001B[0;34m\u001B[0m\u001B[0m\n\u001B[0;32m---> 41\u001B[0;31m                 \u001B[0msys\u001B[0m\u001B[0;34m.\u001B[0m\u001B[0mexit\u001B[0m\u001B[0;34m(\u001B[0m\u001B[0;34m)\u001B[0m\u001B[0;34m\u001B[0m\u001B[0;34m\u001B[0m\u001B[0m\n\u001B[0m\u001B[1;32m     42\u001B[0m \u001B[0;34m\u001B[0m\u001B[0m\n",
      "\u001B[0;31mSystemExit\u001B[0m: ",
      "\nDuring handling of the above exception, another exception occurred:\n",
      "\u001B[0;31mTypeError\u001B[0m                                 Traceback (most recent call last)",
      "    \u001B[0;31m[... skipping hidden 1 frame]\u001B[0m\n",
      "\u001B[0;32m/opt/anaconda/envs/MLCourse/lib/python3.7/site-packages/IPython/core/interactiveshell.py\u001B[0m in \u001B[0;36mshowtraceback\u001B[0;34m(self, exc_tuple, filename, tb_offset, exception_only, running_compiled_code)\u001B[0m\n\u001B[1;32m   2036\u001B[0m                            'the full traceback.\\n']\n\u001B[1;32m   2037\u001B[0m                     stb.extend(self.InteractiveTB.get_exception_only(etype,\n\u001B[0;32m-> 2038\u001B[0;31m                                                                      value))\n\u001B[0m\u001B[1;32m   2039\u001B[0m                 \u001B[0;32melse\u001B[0m\u001B[0;34m:\u001B[0m\u001B[0;34m\u001B[0m\u001B[0;34m\u001B[0m\u001B[0m\n\u001B[1;32m   2040\u001B[0m                     \u001B[0;32mtry\u001B[0m\u001B[0;34m:\u001B[0m\u001B[0;34m\u001B[0m\u001B[0;34m\u001B[0m\u001B[0m\n",
      "\u001B[0;32m/opt/anaconda/envs/MLCourse/lib/python3.7/site-packages/IPython/core/ultratb.py\u001B[0m in \u001B[0;36mget_exception_only\u001B[0;34m(self, etype, value)\u001B[0m\n\u001B[1;32m    821\u001B[0m         \u001B[0mvalue\u001B[0m \u001B[0;34m:\u001B[0m \u001B[0mexception\u001B[0m \u001B[0mvalue\u001B[0m\u001B[0;34m\u001B[0m\u001B[0;34m\u001B[0m\u001B[0m\n\u001B[1;32m    822\u001B[0m         \"\"\"\n\u001B[0;32m--> 823\u001B[0;31m         \u001B[0;32mreturn\u001B[0m \u001B[0mListTB\u001B[0m\u001B[0;34m.\u001B[0m\u001B[0mstructured_traceback\u001B[0m\u001B[0;34m(\u001B[0m\u001B[0mself\u001B[0m\u001B[0;34m,\u001B[0m \u001B[0metype\u001B[0m\u001B[0;34m,\u001B[0m \u001B[0mvalue\u001B[0m\u001B[0;34m)\u001B[0m\u001B[0;34m\u001B[0m\u001B[0;34m\u001B[0m\u001B[0m\n\u001B[0m\u001B[1;32m    824\u001B[0m \u001B[0;34m\u001B[0m\u001B[0m\n\u001B[1;32m    825\u001B[0m     \u001B[0;32mdef\u001B[0m \u001B[0mshow_exception_only\u001B[0m\u001B[0;34m(\u001B[0m\u001B[0mself\u001B[0m\u001B[0;34m,\u001B[0m \u001B[0metype\u001B[0m\u001B[0;34m,\u001B[0m \u001B[0mevalue\u001B[0m\u001B[0;34m)\u001B[0m\u001B[0;34m:\u001B[0m\u001B[0;34m\u001B[0m\u001B[0;34m\u001B[0m\u001B[0m\n",
      "\u001B[0;32m/opt/anaconda/envs/MLCourse/lib/python3.7/site-packages/IPython/core/ultratb.py\u001B[0m in \u001B[0;36mstructured_traceback\u001B[0;34m(self, etype, evalue, etb, tb_offset, context)\u001B[0m\n\u001B[1;32m    700\u001B[0m                     chained_exceptions_tb_offset, context)\n\u001B[1;32m    701\u001B[0m                 \u001B[0;34m+\u001B[0m \u001B[0mchained_exception_message\u001B[0m\u001B[0;34m\u001B[0m\u001B[0;34m\u001B[0m\u001B[0m\n\u001B[0;32m--> 702\u001B[0;31m                 + out_list)\n\u001B[0m\u001B[1;32m    703\u001B[0m \u001B[0;34m\u001B[0m\u001B[0m\n\u001B[1;32m    704\u001B[0m         \u001B[0;32mreturn\u001B[0m \u001B[0mout_list\u001B[0m\u001B[0;34m\u001B[0m\u001B[0;34m\u001B[0m\u001B[0m\n",
      "\u001B[0;32m/opt/anaconda/envs/MLCourse/lib/python3.7/site-packages/IPython/core/ultratb.py\u001B[0m in \u001B[0;36mstructured_traceback\u001B[0;34m(self, etype, value, tb, tb_offset, number_of_lines_of_context)\u001B[0m\n\u001B[1;32m   1434\u001B[0m             \u001B[0mself\u001B[0m\u001B[0;34m.\u001B[0m\u001B[0mtb\u001B[0m \u001B[0;34m=\u001B[0m \u001B[0mtb\u001B[0m\u001B[0;34m\u001B[0m\u001B[0;34m\u001B[0m\u001B[0m\n\u001B[1;32m   1435\u001B[0m         return FormattedTB.structured_traceback(\n\u001B[0;32m-> 1436\u001B[0;31m             self, etype, value, tb, tb_offset, number_of_lines_of_context)\n\u001B[0m\u001B[1;32m   1437\u001B[0m \u001B[0;34m\u001B[0m\u001B[0m\n\u001B[1;32m   1438\u001B[0m \u001B[0;34m\u001B[0m\u001B[0m\n",
      "\u001B[0;32m/opt/anaconda/envs/MLCourse/lib/python3.7/site-packages/IPython/core/ultratb.py\u001B[0m in \u001B[0;36mstructured_traceback\u001B[0;34m(self, etype, value, tb, tb_offset, number_of_lines_of_context)\u001B[0m\n\u001B[1;32m   1334\u001B[0m             \u001B[0;31m# Verbose modes need a full traceback\u001B[0m\u001B[0;34m\u001B[0m\u001B[0;34m\u001B[0m\u001B[0;34m\u001B[0m\u001B[0m\n\u001B[1;32m   1335\u001B[0m             return VerboseTB.structured_traceback(\n\u001B[0;32m-> 1336\u001B[0;31m                 \u001B[0mself\u001B[0m\u001B[0;34m,\u001B[0m \u001B[0metype\u001B[0m\u001B[0;34m,\u001B[0m \u001B[0mvalue\u001B[0m\u001B[0;34m,\u001B[0m \u001B[0mtb\u001B[0m\u001B[0;34m,\u001B[0m \u001B[0mtb_offset\u001B[0m\u001B[0;34m,\u001B[0m \u001B[0mnumber_of_lines_of_context\u001B[0m\u001B[0;34m\u001B[0m\u001B[0;34m\u001B[0m\u001B[0m\n\u001B[0m\u001B[1;32m   1337\u001B[0m             )\n\u001B[1;32m   1338\u001B[0m         \u001B[0;32melif\u001B[0m \u001B[0mmode\u001B[0m \u001B[0;34m==\u001B[0m \u001B[0;34m'Minimal'\u001B[0m\u001B[0;34m:\u001B[0m\u001B[0;34m\u001B[0m\u001B[0;34m\u001B[0m\u001B[0m\n",
      "\u001B[0;32m/opt/anaconda/envs/MLCourse/lib/python3.7/site-packages/IPython/core/ultratb.py\u001B[0m in \u001B[0;36mstructured_traceback\u001B[0;34m(self, etype, evalue, etb, tb_offset, number_of_lines_of_context)\u001B[0m\n\u001B[1;32m   1191\u001B[0m \u001B[0;34m\u001B[0m\u001B[0m\n\u001B[1;32m   1192\u001B[0m         formatted_exception = self.format_exception_as_a_whole(etype, evalue, etb, number_of_lines_of_context,\n\u001B[0;32m-> 1193\u001B[0;31m                                                                tb_offset)\n\u001B[0m\u001B[1;32m   1194\u001B[0m \u001B[0;34m\u001B[0m\u001B[0m\n\u001B[1;32m   1195\u001B[0m         \u001B[0mcolors\u001B[0m \u001B[0;34m=\u001B[0m \u001B[0mself\u001B[0m\u001B[0;34m.\u001B[0m\u001B[0mColors\u001B[0m  \u001B[0;31m# just a shorthand + quicker name lookup\u001B[0m\u001B[0;34m\u001B[0m\u001B[0;34m\u001B[0m\u001B[0m\n",
      "\u001B[0;32m/opt/anaconda/envs/MLCourse/lib/python3.7/site-packages/IPython/core/ultratb.py\u001B[0m in \u001B[0;36mformat_exception_as_a_whole\u001B[0;34m(self, etype, evalue, etb, number_of_lines_of_context, tb_offset)\u001B[0m\n\u001B[1;32m   1148\u001B[0m \u001B[0;34m\u001B[0m\u001B[0m\n\u001B[1;32m   1149\u001B[0m \u001B[0;34m\u001B[0m\u001B[0m\n\u001B[0;32m-> 1150\u001B[0;31m         \u001B[0mlast_unique\u001B[0m\u001B[0;34m,\u001B[0m \u001B[0mrecursion_repeat\u001B[0m \u001B[0;34m=\u001B[0m \u001B[0mfind_recursion\u001B[0m\u001B[0;34m(\u001B[0m\u001B[0morig_etype\u001B[0m\u001B[0;34m,\u001B[0m \u001B[0mevalue\u001B[0m\u001B[0;34m,\u001B[0m \u001B[0mrecords\u001B[0m\u001B[0;34m)\u001B[0m\u001B[0;34m\u001B[0m\u001B[0;34m\u001B[0m\u001B[0m\n\u001B[0m\u001B[1;32m   1151\u001B[0m \u001B[0;34m\u001B[0m\u001B[0m\n\u001B[1;32m   1152\u001B[0m         \u001B[0mframes\u001B[0m \u001B[0;34m=\u001B[0m \u001B[0mself\u001B[0m\u001B[0;34m.\u001B[0m\u001B[0mformat_records\u001B[0m\u001B[0;34m(\u001B[0m\u001B[0mrecords\u001B[0m\u001B[0;34m,\u001B[0m \u001B[0mlast_unique\u001B[0m\u001B[0;34m,\u001B[0m \u001B[0mrecursion_repeat\u001B[0m\u001B[0;34m)\u001B[0m\u001B[0;34m\u001B[0m\u001B[0;34m\u001B[0m\u001B[0m\n",
      "\u001B[0;32m/opt/anaconda/envs/MLCourse/lib/python3.7/site-packages/IPython/core/ultratb.py\u001B[0m in \u001B[0;36mfind_recursion\u001B[0;34m(etype, value, records)\u001B[0m\n\u001B[1;32m    449\u001B[0m     \u001B[0;31m# first frame (from in to out) that looks different.\u001B[0m\u001B[0;34m\u001B[0m\u001B[0;34m\u001B[0m\u001B[0;34m\u001B[0m\u001B[0m\n\u001B[1;32m    450\u001B[0m     \u001B[0;32mif\u001B[0m \u001B[0;32mnot\u001B[0m \u001B[0mis_recursion_error\u001B[0m\u001B[0;34m(\u001B[0m\u001B[0metype\u001B[0m\u001B[0;34m,\u001B[0m \u001B[0mvalue\u001B[0m\u001B[0;34m,\u001B[0m \u001B[0mrecords\u001B[0m\u001B[0;34m)\u001B[0m\u001B[0;34m:\u001B[0m\u001B[0;34m\u001B[0m\u001B[0;34m\u001B[0m\u001B[0m\n\u001B[0;32m--> 451\u001B[0;31m         \u001B[0;32mreturn\u001B[0m \u001B[0mlen\u001B[0m\u001B[0;34m(\u001B[0m\u001B[0mrecords\u001B[0m\u001B[0;34m)\u001B[0m\u001B[0;34m,\u001B[0m \u001B[0;36m0\u001B[0m\u001B[0;34m\u001B[0m\u001B[0;34m\u001B[0m\u001B[0m\n\u001B[0m\u001B[1;32m    452\u001B[0m \u001B[0;34m\u001B[0m\u001B[0m\n\u001B[1;32m    453\u001B[0m     \u001B[0;31m# Select filename, lineno, func_name to track frames with\u001B[0m\u001B[0;34m\u001B[0m\u001B[0;34m\u001B[0m\u001B[0;34m\u001B[0m\u001B[0m\n",
      "\u001B[0;31mTypeError\u001B[0m: object of type 'NoneType' has no len()"
     ]
    }
   ],
   "source": [
    "def spotify(cid, secret, username, playlistid):\n",
    "    \n",
    "        \"\"\"This function takes the user's information\n",
    "        and retrieves the song attributes that are\n",
    "        attached to the songs in the playlist\n",
    "        and then creates a global pandas dataframe\n",
    "        of the song attributes\"\"\"\n",
    "\n",
    "        try:\n",
    "                client_credentials_manager = SpotifyClientCredentials(client_id=cid, client_secret=secret)\n",
    "                sp = spotipy.Spotify(client_credentials_manager=client_credentials_manager)\n",
    "                sp.trace=False                \n",
    "                \n",
    "                #global top 50 playlist\n",
    "                playlist= sp.user_playlist(username,playlistid)\n",
    "                songs = playlist[\"tracks\"][\"items\"]\n",
    "                ids = []\n",
    "                \n",
    "                for i in range(len(songs)):\n",
    "                        ids.append(songs[i][\"track\"][\"id\"])\n",
    "                features = sp.audio_features(ids)\n",
    "                \n",
    "                \n",
    "                #my top 50 playlist\n",
    "                playlist2 = sp.user_playlist(username,playlistid2)\n",
    "                songs2 = playlist2['tracks']['items']\n",
    "                ids2 = []\n",
    "                \n",
    "                for j in range(len(songs2)):\n",
    "                    ids2.append(songs2[j]['track']['id'])\n",
    "                features2 = sp.audio_features(ids2)\n",
    "                \n",
    "                global top_50, my_100\n",
    "                top_50= pd.DataFrame(features)\n",
    "                my_100 = pd.DataFrame(features2)\n",
    "                \n",
    "                \n",
    "           \n",
    "        except:\n",
    "                print('Error in input varibles')\n",
    "                sys.exit()\n",
    "\n",
    "\n",
    "if __name__ == '__main__':\n",
    "        cid =\"\"\n",
    "        secret = \"\"\n",
    "        username = '21btaxthmh7p3mzr2pto5itja'\n",
    "        playlistid = ''\n",
    "        playlistid2 = ''\n",
    "        spotify(cid, secret, username, playlistid)\n"
   ]
  },
  {
   "cell_type": "markdown",
   "metadata": {},
   "source": [
    "# Data manipulation/description"
   ]
  },
  {
   "cell_type": "code",
   "execution_count": null,
   "metadata": {},
   "outputs": [],
   "source": [
    "# Top 50 global songs\n",
    "top_50.head()"
   ]
  },
  {
   "cell_type": "code",
   "execution_count": null,
   "metadata": {},
   "outputs": [],
   "source": [
    "# My top 100 played songs in 2017\n",
    "my_100.head()"
   ]
  },
  {
   "cell_type": "code",
   "execution_count": null,
   "metadata": {
    "collapsed": true
   },
   "outputs": [],
   "source": [
    "# removing unwanted features\n",
    "top_50 = top_50.drop(['id','analysis_url','track_href','type','uri'],axis =1)\n",
    "my_100 = my_100.drop(['id','analysis_url','track_href','type','uri'],axis =1)"
   ]
  },
  {
   "cell_type": "code",
   "execution_count": null,
   "metadata": {
    "collapsed": true
   },
   "outputs": [],
   "source": [
    "# creating classes \n",
    "top_50['class'] = [\"Global\"] * len(top_50)\n",
    "my_100['class'] = [\"My\"] * len(my_100)"
   ]
  },
  {
   "cell_type": "code",
   "execution_count": null,
   "metadata": {},
   "outputs": [],
   "source": [
    "# description of each dataset\n",
    "top_50.describe()"
   ]
  },
  {
   "cell_type": "code",
   "execution_count": null,
   "metadata": {},
   "outputs": [],
   "source": [
    "my_100.describe()"
   ]
  },
  {
   "cell_type": "code",
   "execution_count": null,
   "metadata": {
    "collapsed": true
   },
   "outputs": [],
   "source": [
    "# combining dataframes\n",
    "all_data = top_50.append(my_100)"
   ]
  },
  {
   "cell_type": "code",
   "execution_count": null,
   "metadata": {},
   "outputs": [],
   "source": [
    "all_data.describe()"
   ]
  },
  {
   "cell_type": "code",
   "execution_count": null,
   "metadata": {
    "collapsed": true
   },
   "outputs": [],
   "source": [
    "#converting milliseconds to minutes\n",
    "all_data['duration_ms'] = (all_data['duration_ms']*0.001)/60\n",
    "my_100['duration_ms'] = (my_100['duration_ms']*0.001)/60\n",
    "top_50['duration_ms'] = (top_50['duration_ms']*0.001)/60\n",
    "\n",
    "#renaming column\n",
    "all_data = all_data.rename(columns = {'duration_ms' : 'duration_min'})\n",
    "my_100 = my_100.rename(columns = {'duration_ms' : 'duration_min'})\n",
    "top_50 = top_50.rename(columns = {'duration_ms' : 'duration_min'})"
   ]
  },
  {
   "cell_type": "code",
   "execution_count": null,
   "metadata": {},
   "outputs": [],
   "source": [
    "sns.pairplot(data = all_data, hue = 'class')\n",
    "plt.show()"
   ]
  },
  {
   "cell_type": "markdown",
   "metadata": {},
   "source": [
    "# Machine learning "
   ]
  },
  {
   "cell_type": "code",
   "execution_count": null,
   "metadata": {
    "collapsed": true
   },
   "outputs": [],
   "source": [
    "# creating training and test datasets\n",
    "X = all_data.drop('class',axis =1)\n",
    "y = all_data['class']\n",
    "\n",
    "X_train, X_test, y_train, y_test = cross_validation.train_test_split(X,y, test_size =0.2)"
   ]
  },
  {
   "cell_type": "markdown",
   "metadata": {},
   "source": [
    "## Decision Tree\n"
   ]
  },
  {
   "cell_type": "code",
   "execution_count": null,
   "metadata": {},
   "outputs": [],
   "source": [
    "dt = DecisionTreeClassifier()\n",
    "dt.fit(X_train,y_train)"
   ]
  },
  {
   "cell_type": "code",
   "execution_count": null,
   "metadata": {
    "collapsed": true
   },
   "outputs": [],
   "source": [
    "prediction = dt.predict(X_test)"
   ]
  },
  {
   "cell_type": "code",
   "execution_count": null,
   "metadata": {},
   "outputs": [],
   "source": [
    "# confusion matrix shape is actual x, where prediction position 1 = 'Global' position 2 = 'My'\n",
    "# i.e. 18 is the correct number of 'My' class predictions\n",
    "print('Decision Tree Prediction Results')\n",
    "print(confusion_matrix(y_test,prediction))\n",
    "print(\"\\n\")\n",
    "print(classification_report(y_test,prediction))"
   ]
  },
  {
   "cell_type": "markdown",
   "metadata": {},
   "source": [
    "# Random Forest\n",
    "\n"
   ]
  },
  {
   "cell_type": "code",
   "execution_count": null,
   "metadata": {},
   "outputs": [],
   "source": [
    "rf = RandomForestClassifier()\n",
    "rf.fit(X_train,y_train)"
   ]
  },
  {
   "cell_type": "code",
   "execution_count": null,
   "metadata": {
    "collapsed": true
   },
   "outputs": [],
   "source": [
    "rf_pred = rf.predict(X_test)"
   ]
  },
  {
   "cell_type": "code",
   "execution_count": null,
   "metadata": {},
   "outputs": [],
   "source": [
    "print('Random Forest Prediction Results')\n",
    "print(confusion_matrix(y_test,rf_pred))\n",
    "print(\"\\n\")\n",
    "print(classification_report(y_test,rf_pred))"
   ]
  },
  {
   "cell_type": "markdown",
   "metadata": {},
   "source": [
    "# Feature analysis with Random Forest Model"
   ]
  },
  {
   "cell_type": "code",
   "execution_count": null,
   "metadata": {},
   "outputs": [],
   "source": [
    "rf_feature_importance = rf.feature_importances_\n",
    "feat_imp_dic\n",
    "print(\"Total Influence:\",sum(feat_imp_dic.values()))"
   ]
  },
  {
   "cell_type": "code",
   "execution_count": null,
   "metadata": {},
   "outputs": [],
   "source": [
    "top_5_feats = dict(sorted(feat_imp_dic.items(),key = operator.itemgetter(1), reverse = True)[0:5])\n",
    "top_5_feats"
   ]
  },
  {
   "cell_type": "code",
   "execution_count": null,
   "metadata": {
    "scrolled": false
   },
   "outputs": [],
   "source": [
    "plt.figure(figsize=(20, 10))\n",
    "plt.title(\"Random Forest Feature Importance\")\n",
    "plt.bar(range(len(top_5_feats)), sorted(list(top_5_feats.values()), reverse = True), align='center')\n",
    "plt.xticks(range(len(top_5_feats)), list(top_5_feats.keys()))\n",
    "plt.ylabel('Percentage influence')\n",
    "plt.savefig(\"Random Forest Feature Importance.png\")\n",
    "plt.show()"
   ]
  },
  {
   "cell_type": "code",
   "execution_count": null,
   "metadata": {},
   "outputs": [],
   "source": [
    "# looking at the relationship between the top 5 influencial features\n",
    "sns.pairplot(data = all_data, vars = top_5_feats, hue = 'class')\n",
    "plt.savefig(\"Feature relation.png\")\n",
    "plt.show()"
   ]
  },
  {
   "cell_type": "code",
   "execution_count": null,
   "metadata": {
    "scrolled": true
   },
   "outputs": [],
   "source": [
    "print(\"Top Global 50 Feature Description\")\n",
    "top_50[list(top_5_feats)].describe()"
   ]
  },
  {
   "cell_type": "code",
   "execution_count": null,
   "metadata": {},
   "outputs": [],
   "source": [
    "print(\"My Top 100 Feature Description\")\n",
    "my_100[list(top_5_feats)].describe()"
   ]
  },
  {
   "cell_type": "code",
   "execution_count": null,
   "metadata": {
    "scrolled": false
   },
   "outputs": [],
   "source": [
    "# plotting histograms of the top 5 most influencial features\n",
    "for i in range(len(list(feat_of_interest.keys()))):\n",
    "    plt.figure(figsize=(16, 16))\n",
    "    plt.subplot(3, 2, i+1)\n",
    "    plt.title('Distribution of %s' % feat_of_interest.keys()[i])\n",
    "    plt.hist(feat_of_interest.values[:,i], bins = 'auto')\n",
    "    plt.xlabel('Feature Value')\n",
    "    plt.ylabel('Frequency')\n",
    "    plt.savefig(\"Feature Frequency distribution.png\")\n",
    "    plt.show()"
   ]
  },
  {
   "cell_type": "code",
   "execution_count": null,
   "metadata": {
    "scrolled": true
   },
   "outputs": [],
   "source": [
    "print(\"Correlation of top features\")\n",
    "correlation = feat_of_interest.corr()\n",
    "correlation"
   ]
  },
  {
   "cell_type": "code",
   "execution_count": null,
   "metadata": {
    "collapsed": true
   },
   "outputs": [],
   "source": [
    "# Creating a subset from the top 5 influencial features\n",
    "subset = all_data[['danceability', 'duration_min', 'loudness', 'speechiness', 'liveness', 'class']]"
   ]
  },
  {
   "cell_type": "code",
   "execution_count": null,
   "metadata": {
    "scrolled": true
   },
   "outputs": [],
   "source": [
    "#Converting classes to binary (Global = 1, My = 0)\n",
    "subset['class'] = subset['class'].str.contains('Global').astype(int)"
   ]
  },
  {
   "cell_type": "code",
   "execution_count": null,
   "metadata": {
    "collapsed": true
   },
   "outputs": [],
   "source": [
    "x = subset[['danceability','speechiness']].as_matrix()\n",
    "X = preprocessing.scale(x)\n",
    "y = subset['class'].as_matrix()"
   ]
  },
  {
   "cell_type": "code",
   "execution_count": null,
   "metadata": {},
   "outputs": [],
   "source": [
    "#logistic regression\n",
    "lr = LogisticRegressionCV()\n",
    "lr.fit(X,y)"
   ]
  },
  {
   "cell_type": "code",
   "execution_count": null,
   "metadata": {},
   "outputs": [],
   "source": [
    "# Generate a dataset and plot it\n",
    "matplotlib.rcParams['figure.figsize'] = (10.0, 8.0)\n",
    "plt.scatter(X[:,0], X[:,1], s=40, c=y, cmap=plt.cm.Spectral)\n",
    "plt.title('Divergent of Classes')\n",
    "plt.xlabel('Danceability')\n",
    "plt.ylabel('Speechiness')"
   ]
  },
  {
   "cell_type": "code",
   "execution_count": null,
   "metadata": {
    "collapsed": true
   },
   "outputs": [],
   "source": [
    "def plot_decision_boundary(pred_func):\n",
    "    # Set min and max values and give it some padding\n",
    "    x_min, x_max = X[:, 0].min() - .5, X[:, 0].max() + .5\n",
    "    y_min, y_max = X[:, 1].min() - .5, X[:, 1].max() + .5\n",
    "    h = 0.01\n",
    "    # Generate a grid of points with distance h between them\n",
    "    xx, yy = np.meshgrid(np.arange(x_min, x_max, h), np.arange(y_min, y_max, h))\n",
    "    # Predict the function value for the whole gid\n",
    "    Z = pred_func(np.c_[xx.ravel(), yy.ravel()])\n",
    "    Z = Z.reshape(xx.shape)\n",
    "    # Plot the contour and training examples\n",
    "    plt.contourf(xx, yy, Z, cmap=plt.cm.Spectral)\n",
    "    plt.scatter(X[:, 0], X[:, 1],\n",
    "                edgecolor = 'black',linewidth = '1',s=50, c=y, cmap=plt.cm.Spectral)"
   ]
  },
  {
   "cell_type": "code",
   "execution_count": null,
   "metadata": {},
   "outputs": [],
   "source": [
    "plot_decision_boundary(lambda x: lr.predict(x))\n",
    "plt.title(\"Decision Boundary Logistic Regression\")\n",
    "plt.xlabel('Danceability')\n",
    "plt.ylabel('Speechiness')\n",
    "plt.show()"
   ]
  },
  {
   "cell_type": "code",
   "execution_count": null,
   "metadata": {
    "collapsed": true
   },
   "outputs": [],
   "source": [
    "X_train, X_test, y_train, y_test = cross_validation.train_test_split(X,y, test_size =50)\n"
   ]
  },
  {
   "cell_type": "code",
   "execution_count": null,
   "metadata": {},
   "outputs": [],
   "source": [
    "#visializing how accurate the decision boundary is\n",
    "\n",
    "\n",
    "plot_decision_boundary(lambda x: lr.predict(x))\n",
    "plt.title(\"Decision Boundary with Predictions\")\n",
    "plt.xlabel('Danceability')\n",
    "plt.ylabel('Speechiness')\n",
    "plt.scatter(X_test[:,0], X_test[:,1], marker = \"^\",alpha = 0.78,edgecolor = 'green',linewidth = '2', s=800, c=y_test, cmap=plt.cm.Spectral)\n",
    "plt.show()"
   ]
  },
  {
   "cell_type": "markdown",
   "metadata": {},
   "source": [
    "# Neural Network"
   ]
  },
  {
   "cell_type": "code",
   "execution_count": null,
   "metadata": {
    "collapsed": true
   },
   "outputs": [],
   "source": [
    "num_examples = len(X_train) # training set size\n",
    "nn_input_dim = X_train.shape[1] # input layer dimensionality\n",
    "nn_output_dim = 2 # output layer dimensionality\n",
    "\n",
    "# learning rate for gradient descent (typically set to 0.01)\n",
    "lr = 0.01 "
   ]
  },
  {
   "cell_type": "code",
   "execution_count": null,
   "metadata": {
    "collapsed": true
   },
   "outputs": [],
   "source": [
    "def neural_network_training(inputs,desired,nn_hdim,epochs):\n",
    "    \n",
    "    \n",
    "    np.random.seed(3)\n",
    "    w1 = 2 * np.random.random((nn_input_dim,nn_hdim))-1\n",
    "    w2 = 2 * np.random.random((nn_hdim,nn_output_dim)) -1\n",
    "    \n",
    "    weights = {}\n",
    "    \n",
    "    for i in range(epochs):\n",
    "        \n",
    "        #forward propagation\n",
    "        h1 = np.dot(inputs,w1)\n",
    "        a1 = np.tanh(h1)\n",
    "        h2 = np.dot(a1,w2)\n",
    "        exp_h2 = np.exp(h2)\n",
    "        probability = exp_h2 / np.sum(exp_h2, axis = 1, keepdims=True)\n",
    "\n",
    "        #backward propagation\n",
    "        delta2 = probability\n",
    "        delta2[range(num_examples),desired] -=1\n",
    "        dw2 = a1.T.dot(delta2)\n",
    "        delta1 = delta2.dot(w2.T) * (1 - np.power(a1,2))\n",
    "        dw1 = np.dot(inputs.T,delta1)\n",
    "\n",
    "        w1 += -lr * dw1\n",
    "        w2 += -lr * dw2\n",
    "\n",
    "\n",
    "        weights = {'w1': w1, 'w2':w2}\n",
    "\n",
    "    return weights"
   ]
  },
  {
   "cell_type": "code",
   "execution_count": null,
   "metadata": {
    "collapsed": true
   },
   "outputs": [],
   "source": [
    "def prediction(nn, inputs,desired):\n",
    "    \n",
    "    w1, w2 = nn['w1'], nn['w2']\n",
    "    \n",
    "    #forward prop\n",
    "    h1 = np.dot(inputs,w1)\n",
    "    a1 = np.tanh(h1)\n",
    "    h2 = np.dot(a1,w2)\n",
    "    exp_h2 = np.exp(h2)\n",
    "    probability = exp_h2 / np.sum(exp_h2, axis = 1, keepdims=True)\n",
    "    return sum(np.argmax(probability,axis = 1) == desired)/num_examples\n"
   ]
  },
  {
   "cell_type": "code",
   "execution_count": null,
   "metadata": {},
   "outputs": [],
   "source": [
    "print(\"Results of Backward Propagating Neural Network\")\n",
    "hid_dim = [1,2,3,4,5,6]\n",
    "for i, nn_hdim in enumerate(hid_dim):\n",
    "    nn = neural_network_training(X_train,y_train,nn_hdim,1000)\n",
    "    print(\"training prediction accuracy with %i hidden layer node(s): %s\" %(i,str(prediction(nn,X_train,y_train))))\n",
    "print('\\n')\n",
    "for i, nn_hdim in enumerate(hid_dim):\n",
    "    nn = neural_network_training(X_train,y_train,nn_hdim,1000)\n",
    "    print(\"test prediction accuracy with %i hidden layer node(s): %s\" %(i,str(prediction(nn,X_test,y_test))))"
   ]
  },
  {
   "cell_type": "code",
   "execution_count": null,
   "metadata": {
    "collapsed": true
   },
   "outputs": [],
   "source": [
    "def plot_prediction(nn, inputs):\n",
    "    \n",
    "    w1, w2 = nn['w1'], nn['w2']\n",
    "    \n",
    "    #forward prop\n",
    "    h1 = np.dot(inputs,w1)\n",
    "    a1 = np.tanh(h1)\n",
    "    h2 = np.dot(a1,w2)\n",
    "    exp_h2 = np.exp(h2)\n",
    "    probability = exp_h2 / np.sum(exp_h2, axis = 1, keepdims=True)\n",
    "    return np.argmax(probability,axis = 1) "
   ]
  },
  {
   "cell_type": "code",
   "execution_count": null,
   "metadata": {},
   "outputs": [],
   "source": [
    "model = neural_network_training(X_train,y_train,15,1000)\n",
    "\n",
    "plot_decision_boundary(lambda x: plot_prediction(model, x))\n",
    "plt.title(\"Decision Boundary for hidden layer size 15\")\n",
    "plt.xlabel('Danceability')\n",
    "plt.ylabel('Speechiness')\n",
    "plt.savefig(\"Decision Boundary for hidden layer size 15.png\")"
   ]
  },
  {
   "cell_type": "code",
   "execution_count": null,
   "metadata": {},
   "outputs": [],
   "source": [
    "# plotting the test accuracy\n",
    "plt.figure(figsize=(16, 32))\n",
    "hid_dim = [1,2,3,4,5,50]\n",
    "for i, nn_hdim in enumerate(hid_dim):\n",
    "    plt.subplot(5, 2, i+1)\n",
    "    plt.title('Hidden Layer size %d' % nn_hdim)\n",
    "    plt.xlabel('Danceability')\n",
    "    plt.ylabel('Speechiness')\n",
    "    model = neural_network_training(X_train,y_train,nn_hdim,1000)\n",
    "    plot_decision_boundary(lambda x: plot_prediction(model, x))\n",
    "    plt.savefig(\"Decision Boundary for various hidden layer sizes.png\")\n",
    "plt.show()"
   ]
  },
  {
   "cell_type": "code",
   "execution_count": null,
   "metadata": {},
   "outputs": [],
   "source": [
    "model = neural_network_training(X_train,y_train,2,1000)\n",
    "\n",
    "plot_decision_boundary(lambda x: plot_prediction(model, x))\n",
    "plt.scatter(X_test[:,0], X_test[:,1], marker = \"^\",alpha = 0.78,edgecolor = 'green',linewidth = '2', s=800, c=y_test, cmap=plt.cm.Spectral)\n",
    "plt.title(\"Decision Boundary for hidden layer size 2\")\n",
    "plt.xlabel('Danceability')\n",
    "plt.ylabel('Speechiness')\n",
    "\n",
    "plt.savefig(\"Decision Boundary for hidden layer size 2.png\")"
   ]
  }
 ],
 "metadata": {
  "kernelspec": {
   "display_name": "Python 3",
   "language": "python",
   "name": "python3"
  },
  "language_info": {
   "codemirror_mode": {
    "name": "ipython",
    "version": 3
   },
   "file_extension": ".py",
   "mimetype": "text/x-python",
   "name": "python",
   "nbconvert_exporter": "python",
   "pygments_lexer": "ipython3",
   "version": "3.7.9"
  }
 },
 "nbformat": 4,
 "nbformat_minor": 2
}