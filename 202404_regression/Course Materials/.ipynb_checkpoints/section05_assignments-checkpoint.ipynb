{
 "cells": [
  {
   "cell_type": "code",
   "execution_count": null,
   "id": "7833778a",
   "metadata": {},
   "outputs": [],
   "source": [
    "computers = computers.join(pd.get_dummies(computers[\"screen\"], drop_first=True))"
   ]
  }
 ],
 "metadata": {
  "kernelspec": {
   "display_name": "Python 3 (ipykernel)",
   "language": "python",
   "name": "python3"
  },
  "language_info": {
   "codemirror_mode": {
    "name": "ipython",
    "version": 3
   },
   "file_extension": ".py",
   "mimetype": "text/x-python",
   "name": "python",
   "nbconvert_exporter": "python",
   "pygments_lexer": "ipython3",
   "version": "3.9.13"
  }
 },
 "nbformat": 4,
 "nbformat_minor": 5
}
