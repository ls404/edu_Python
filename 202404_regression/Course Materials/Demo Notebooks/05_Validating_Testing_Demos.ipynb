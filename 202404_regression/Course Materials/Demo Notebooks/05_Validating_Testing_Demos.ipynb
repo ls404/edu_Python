{
 "cells": [
  {
   "cell_type": "code",
   "execution_count": 4,
   "id": "1fc346c7",
   "metadata": {},
   "outputs": [],
   "source": [
    "import pandas as pd\n",
    "import numpy as np\n",
    "import seaborn as sns\n",
    "import statsmodels.api as sm\n",
    "\n",
    "insurance_df = pd.read_csv(\"../Data/insurance.csv\")"
   ]
  },
  {
   "cell_type": "code",
   "execution_count": 5,
   "id": "f0195ba3",
   "metadata": {},
   "outputs": [
    {
     "data": {
      "text/html": [
       "<div>\n",
       "<style scoped>\n",
       "    .dataframe tbody tr th:only-of-type {\n",
       "        vertical-align: middle;\n",
       "    }\n",
       "\n",
       "    .dataframe tbody tr th {\n",
       "        vertical-align: top;\n",
       "    }\n",
       "\n",
       "    .dataframe thead th {\n",
       "        text-align: right;\n",
       "    }\n",
       "</style>\n",
       "<table border=\"1\" class=\"dataframe\">\n",
       "  <thead>\n",
       "    <tr style=\"text-align: right;\">\n",
       "      <th></th>\n",
       "      <th>age</th>\n",
       "      <th>sex</th>\n",
       "      <th>bmi</th>\n",
       "      <th>children</th>\n",
       "      <th>smoker</th>\n",
       "      <th>region</th>\n",
       "      <th>charges</th>\n",
       "    </tr>\n",
       "  </thead>\n",
       "  <tbody>\n",
       "    <tr>\n",
       "      <th>0</th>\n",
       "      <td>19</td>\n",
       "      <td>female</td>\n",
       "      <td>27.900</td>\n",
       "      <td>0</td>\n",
       "      <td>yes</td>\n",
       "      <td>southwest</td>\n",
       "      <td>16884.92400</td>\n",
       "    </tr>\n",
       "    <tr>\n",
       "      <th>1</th>\n",
       "      <td>18</td>\n",
       "      <td>male</td>\n",
       "      <td>33.770</td>\n",
       "      <td>1</td>\n",
       "      <td>no</td>\n",
       "      <td>southeast</td>\n",
       "      <td>1725.55230</td>\n",
       "    </tr>\n",
       "    <tr>\n",
       "      <th>2</th>\n",
       "      <td>28</td>\n",
       "      <td>male</td>\n",
       "      <td>33.000</td>\n",
       "      <td>3</td>\n",
       "      <td>no</td>\n",
       "      <td>southeast</td>\n",
       "      <td>4449.46200</td>\n",
       "    </tr>\n",
       "    <tr>\n",
       "      <th>3</th>\n",
       "      <td>33</td>\n",
       "      <td>male</td>\n",
       "      <td>22.705</td>\n",
       "      <td>0</td>\n",
       "      <td>no</td>\n",
       "      <td>northwest</td>\n",
       "      <td>21984.47061</td>\n",
       "    </tr>\n",
       "    <tr>\n",
       "      <th>4</th>\n",
       "      <td>32</td>\n",
       "      <td>male</td>\n",
       "      <td>28.880</td>\n",
       "      <td>0</td>\n",
       "      <td>no</td>\n",
       "      <td>northwest</td>\n",
       "      <td>3866.85520</td>\n",
       "    </tr>\n",
       "  </tbody>\n",
       "</table>\n",
       "</div>"
      ],
      "text/plain": [
       "   age     sex     bmi  children smoker     region      charges\n",
       "0   19  female  27.900         0    yes  southwest  16884.92400\n",
       "1   18    male  33.770         1     no  southeast   1725.55230\n",
       "2   28    male  33.000         3     no  southeast   4449.46200\n",
       "3   33    male  22.705         0     no  northwest  21984.47061\n",
       "4   32    male  28.880         0     no  northwest   3866.85520"
      ]
     },
     "execution_count": 5,
     "metadata": {},
     "output_type": "execute_result"
    }
   ],
   "source": [
    "insurance_df.head()"
   ]
  },
  {
   "cell_type": "markdown",
   "id": "a92ad3ab",
   "metadata": {},
   "source": [
    "### Data Splitting"
   ]
  },
  {
   "cell_type": "code",
   "execution_count": 6,
   "id": "5da213bf",
   "metadata": {},
   "outputs": [],
   "source": [
    "from sklearn.model_selection import train_test_split\n",
    "\n",
    "insurance_df[\"smoker_flag\"] = np.where(insurance_df[\"smoker\"] == \"yes\", 1, 0)\n",
    "\n",
    "features = [\"age\", \"bmi\", \"children\", \"smoker_flag\"]\n",
    "\n",
    "X = sm.add_constant(insurance_df[features])\n",
    "y = insurance_df[\"charges\"]\n",
    "\n",
    "X, X_test, y, y_test = train_test_split(X, y, test_size=.2, random_state=2023)\n",
    "\n",
    "X_train, X_valid, y_train, y_valid = train_test_split(X, y, test_size=.25, random_state=2024)"
   ]
  },
  {
   "cell_type": "markdown",
   "id": "49bfee5e",
   "metadata": {},
   "source": [
    "### Validation Scoring"
   ]
  },
  {
   "cell_type": "code",
   "execution_count": 7,
   "id": "a0726164",
   "metadata": {},
   "outputs": [
    {
     "data": {
      "text/html": [
       "<table class=\"simpletable\">\n",
       "<caption>OLS Regression Results</caption>\n",
       "<tr>\n",
       "  <th>Dep. Variable:</th>         <td>charges</td>     <th>  R-squared:         </th> <td>   0.746</td> \n",
       "</tr>\n",
       "<tr>\n",
       "  <th>Model:</th>                   <td>OLS</td>       <th>  Adj. R-squared:    </th> <td>   0.745</td> \n",
       "</tr>\n",
       "<tr>\n",
       "  <th>Method:</th>             <td>Least Squares</td>  <th>  F-statistic:       </th> <td>   585.3</td> \n",
       "</tr>\n",
       "<tr>\n",
       "  <th>Date:</th>             <td>Wed, 23 Aug 2023</td> <th>  Prob (F-statistic):</th> <td>1.93e-235</td>\n",
       "</tr>\n",
       "<tr>\n",
       "  <th>Time:</th>                 <td>14:03:04</td>     <th>  Log-Likelihood:    </th> <td> -8141.8</td> \n",
       "</tr>\n",
       "<tr>\n",
       "  <th>No. Observations:</th>      <td>   802</td>      <th>  AIC:               </th> <td>1.629e+04</td>\n",
       "</tr>\n",
       "<tr>\n",
       "  <th>Df Residuals:</th>          <td>   797</td>      <th>  BIC:               </th> <td>1.632e+04</td>\n",
       "</tr>\n",
       "<tr>\n",
       "  <th>Df Model:</th>              <td>     4</td>      <th>                     </th>     <td> </td>    \n",
       "</tr>\n",
       "<tr>\n",
       "  <th>Covariance Type:</th>      <td>nonrobust</td>    <th>                     </th>     <td> </td>    \n",
       "</tr>\n",
       "</table>\n",
       "<table class=\"simpletable\">\n",
       "<tr>\n",
       "       <td></td>          <th>coef</th>     <th>std err</th>      <th>t</th>      <th>P>|t|</th>  <th>[0.025</th>    <th>0.975]</th>  \n",
       "</tr>\n",
       "<tr>\n",
       "  <th>const</th>       <td>-1.236e+04</td> <td> 1256.186</td> <td>   -9.840</td> <td> 0.000</td> <td>-1.48e+04</td> <td>-9895.361</td>\n",
       "</tr>\n",
       "<tr>\n",
       "  <th>age</th>         <td>  259.9296</td> <td>   15.585</td> <td>   16.679</td> <td> 0.000</td> <td>  229.338</td> <td>  290.521</td>\n",
       "</tr>\n",
       "<tr>\n",
       "  <th>bmi</th>         <td>  330.1479</td> <td>   36.265</td> <td>    9.104</td> <td> 0.000</td> <td>  258.961</td> <td>  401.334</td>\n",
       "</tr>\n",
       "<tr>\n",
       "  <th>children</th>    <td>  541.3543</td> <td>  184.169</td> <td>    2.939</td> <td> 0.003</td> <td>  179.841</td> <td>  902.867</td>\n",
       "</tr>\n",
       "<tr>\n",
       "  <th>smoker_flag</th> <td> 2.392e+04</td> <td>  547.869</td> <td>   43.667</td> <td> 0.000</td> <td> 2.28e+04</td> <td>  2.5e+04</td>\n",
       "</tr>\n",
       "</table>\n",
       "<table class=\"simpletable\">\n",
       "<tr>\n",
       "  <th>Omnibus:</th>       <td>176.557</td> <th>  Durbin-Watson:     </th> <td>   1.928</td>\n",
       "</tr>\n",
       "<tr>\n",
       "  <th>Prob(Omnibus):</th> <td> 0.000</td>  <th>  Jarque-Bera (JB):  </th> <td> 383.669</td>\n",
       "</tr>\n",
       "<tr>\n",
       "  <th>Skew:</th>          <td> 1.204</td>  <th>  Prob(JB):          </th> <td>4.87e-84</td>\n",
       "</tr>\n",
       "<tr>\n",
       "  <th>Kurtosis:</th>      <td> 5.384</td>  <th>  Cond. No.          </th> <td>    294.</td>\n",
       "</tr>\n",
       "</table><br/><br/>Notes:<br/>[1] Standard Errors assume that the covariance matrix of the errors is correctly specified."
      ],
      "text/plain": [
       "<class 'statsmodels.iolib.summary.Summary'>\n",
       "\"\"\"\n",
       "                            OLS Regression Results                            \n",
       "==============================================================================\n",
       "Dep. Variable:                charges   R-squared:                       0.746\n",
       "Model:                            OLS   Adj. R-squared:                  0.745\n",
       "Method:                 Least Squares   F-statistic:                     585.3\n",
       "Date:                Wed, 23 Aug 2023   Prob (F-statistic):          1.93e-235\n",
       "Time:                        14:03:04   Log-Likelihood:                -8141.8\n",
       "No. Observations:                 802   AIC:                         1.629e+04\n",
       "Df Residuals:                     797   BIC:                         1.632e+04\n",
       "Df Model:                           4                                         \n",
       "Covariance Type:            nonrobust                                         \n",
       "===============================================================================\n",
       "                  coef    std err          t      P>|t|      [0.025      0.975]\n",
       "-------------------------------------------------------------------------------\n",
       "const       -1.236e+04   1256.186     -9.840      0.000   -1.48e+04   -9895.361\n",
       "age           259.9296     15.585     16.679      0.000     229.338     290.521\n",
       "bmi           330.1479     36.265      9.104      0.000     258.961     401.334\n",
       "children      541.3543    184.169      2.939      0.003     179.841     902.867\n",
       "smoker_flag  2.392e+04    547.869     43.667      0.000    2.28e+04     2.5e+04\n",
       "==============================================================================\n",
       "Omnibus:                      176.557   Durbin-Watson:                   1.928\n",
       "Prob(Omnibus):                  0.000   Jarque-Bera (JB):              383.669\n",
       "Skew:                           1.204   Prob(JB):                     4.87e-84\n",
       "Kurtosis:                       5.384   Cond. No.                         294.\n",
       "==============================================================================\n",
       "\n",
       "Notes:\n",
       "[1] Standard Errors assume that the covariance matrix of the errors is correctly specified.\n",
       "\"\"\""
      ]
     },
     "execution_count": 7,
     "metadata": {},
     "output_type": "execute_result"
    }
   ],
   "source": [
    "model = sm.OLS(y_train, X_train).fit()\n",
    "\n",
    "model.summary()"
   ]
  },
  {
   "cell_type": "code",
   "execution_count": 8,
   "id": "54b560e9",
   "metadata": {
    "scrolled": true
   },
   "outputs": [
    {
     "name": "stdout",
     "output_type": "stream",
     "text": [
      "Train R2: 0.7460214272397101\n",
      "Train MAE: 4290.287560582366\n",
      "Validation R2: 0.750904079685457\n",
      "Validation MAE: 4194.961676288344\n"
     ]
    }
   ],
   "source": [
    "from sklearn.metrics import r2_score as r2\n",
    "from sklearn.metrics import mean_absolute_error as mae\n",
    "\n",
    "print(f\"Train R2: {r2(y_train, model.predict(X_train))}\")\n",
    "print(f\"Train MAE: {mae(y_train, model.predict(X_train))}\")\n",
    "print(f\"Validation R2: {r2(y_valid, model.predict(X_valid))}\")\n",
    "print(f\"Validation MAE: {mae(y_valid, model.predict(X_valid))}\")\n"
   ]
  },
  {
   "cell_type": "markdown",
   "id": "e898efab",
   "metadata": {},
   "source": [
    "### Final Fit (on all training data) & Test Score"
   ]
  },
  {
   "cell_type": "code",
   "execution_count": 9,
   "id": "d848ccbd",
   "metadata": {},
   "outputs": [
    {
     "name": "stdout",
     "output_type": "stream",
     "text": [
      "Train R2: 0.7475937041957614\n",
      "Train MAE: 4198.787893587897\n"
     ]
    }
   ],
   "source": [
    "model = sm.OLS(y, X).fit()\n",
    "\n",
    "print(f\"Train R2: {r2(y, model.predict(X))}\")\n",
    "print(f\"Train MAE: {mae(y, model.predict(X))}\")"
   ]
  },
  {
   "cell_type": "code",
   "execution_count": 10,
   "id": "eb4ca011",
   "metadata": {},
   "outputs": [
    {
     "name": "stdout",
     "output_type": "stream",
     "text": [
      "Test R2: 0.7589480825048381\n",
      "Test MAE: 4042.196079549451\n"
     ]
    }
   ],
   "source": [
    "print(f\"Test R2: {r2(y_test, model.predict(X_test))}\")\n",
    "print(f\"Test MAE: {mae(y_test, model.predict(X_test))}\")"
   ]
  },
  {
   "cell_type": "markdown",
   "id": "53350721",
   "metadata": {},
   "source": [
    "### Cross Validation Loop"
   ]
  },
  {
   "cell_type": "code",
   "execution_count": 8,
   "id": "51c176c7",
   "metadata": {},
   "outputs": [
    {
     "name": "stdout",
     "output_type": "stream",
     "text": [
      "All Validation R2s:  [0.736, 0.752, 0.756, 0.77, 0.714]\n",
      "Cross Val R2s: 0.745 +- 0.019\n",
      "All Validation MAEs:  [4363.249, 3995.482, 4385.796, 3958.32, 4418.007]\n",
      "Cross Val MAEs: 4224.171 +- 202.984\n"
     ]
    }
   ],
   "source": [
    "from sklearn.model_selection import KFold\n",
    "from sklearn.metrics import r2_score as r2\n",
    "\n",
    "\n",
    "kf = KFold(n_splits=5, shuffle=True, random_state=2023)\n",
    "\n",
    "# Create a list to store validation scores for each fold\n",
    "cv_lm_r2s = []\n",
    "cv_lm_mae = []\n",
    "\n",
    "# Loop through each fold in X and y\n",
    "for train_ind, val_ind in kf.split(X, y):\n",
    "    # Subset data based on CV folds\n",
    "    X_train, y_train = X.iloc[train_ind], y.iloc[train_ind]\n",
    "    X_val, y_val = X.iloc[val_ind], y.iloc[val_ind]\n",
    "    # Fit the Model on fold's training data\n",
    "    model = sm.OLS(y_train, X_train).fit()\n",
    "    # Append Validation score to list \n",
    "    cv_lm_r2s.append(r2(y_val, model.predict(X_val),))\n",
    "    cv_lm_mae.append(mae(y_val, model.predict(X_val),))\n",
    "\n",
    "print(\"All Validation R2s: \", [round(x, 3) for x in cv_lm_r2s])\n",
    "print(f\"Cross Val R2s: {round(np.mean(cv_lm_r2s), 3)} +- {round(np.std(cv_lm_r2s), 3)}\")\n",
    "\n",
    "print(\"All Validation MAEs: \", [round(x, 3) for x in cv_lm_mae])\n",
    "print(f\"Cross Val MAEs: {round(np.mean(cv_lm_mae), 3)} +- {round(np.std(cv_lm_mae), 3)}\")"
   ]
  },
  {
   "cell_type": "markdown",
   "id": "1a65c6ce",
   "metadata": {},
   "source": [
    "### Final Fit & Score On Test"
   ]
  },
  {
   "cell_type": "code",
   "execution_count": 9,
   "id": "9c6a1670",
   "metadata": {},
   "outputs": [
    {
     "data": {
      "text/plain": [
       "0.7589480825048381"
      ]
     },
     "execution_count": 9,
     "metadata": {},
     "output_type": "execute_result"
    }
   ],
   "source": [
    "model = sm.OLS(y, X).fit()\n",
    "\n",
    "r2(y_test, model.predict(X_test))"
   ]
  },
  {
   "cell_type": "code",
   "execution_count": null,
   "id": "45143aa9",
   "metadata": {},
   "outputs": [],
   "source": []
  }
 ],
 "metadata": {
  "kernelspec": {
   "display_name": "Python 3 (ipykernel)",
   "language": "python",
   "name": "python3"
  },
  "language_info": {
   "codemirror_mode": {
    "name": "ipython",
    "version": 3
   },
   "file_extension": ".py",
   "mimetype": "text/x-python",
   "name": "python",
   "nbconvert_exporter": "python",
   "pygments_lexer": "ipython3",
   "version": "3.11.3"
  }
 },
 "nbformat": 4,
 "nbformat_minor": 5
}
