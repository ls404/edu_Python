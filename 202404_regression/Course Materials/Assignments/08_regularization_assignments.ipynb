{
 "cells": [
  {
   "cell_type": "markdown",
   "id": "a3e6e9e8",
   "metadata": {},
   "source": [
    "### Regularization Assignments\n",
    "\n",
    "Use the model below as a basis for comparison to your regularized models."
   ]
  },
  {
   "cell_type": "code",
   "execution_count": 4,
   "id": "58407cba",
   "metadata": {},
   "outputs": [
    {
     "data": {
      "text/html": [
       "<div>\n",
       "<style scoped>\n",
       "    .dataframe tbody tr th:only-of-type {\n",
       "        vertical-align: middle;\n",
       "    }\n",
       "\n",
       "    .dataframe tbody tr th {\n",
       "        vertical-align: top;\n",
       "    }\n",
       "\n",
       "    .dataframe thead th {\n",
       "        text-align: right;\n",
       "    }\n",
       "</style>\n",
       "<table border=\"1\" class=\"dataframe\">\n",
       "  <thead>\n",
       "    <tr style=\"text-align: right;\">\n",
       "      <th></th>\n",
       "      <th>price</th>\n",
       "      <th>speed</th>\n",
       "      <th>hd</th>\n",
       "      <th>ram</th>\n",
       "      <th>screen</th>\n",
       "      <th>cd</th>\n",
       "      <th>multi</th>\n",
       "      <th>premium</th>\n",
       "      <th>ads</th>\n",
       "      <th>trend</th>\n",
       "    </tr>\n",
       "  </thead>\n",
       "  <tbody>\n",
       "    <tr>\n",
       "      <th>6254</th>\n",
       "      <td>1690</td>\n",
       "      <td>100</td>\n",
       "      <td>528</td>\n",
       "      <td>8</td>\n",
       "      <td>15</td>\n",
       "      <td>no</td>\n",
       "      <td>no</td>\n",
       "      <td>yes</td>\n",
       "      <td>39</td>\n",
       "      <td>35</td>\n",
       "    </tr>\n",
       "    <tr>\n",
       "      <th>6255</th>\n",
       "      <td>2223</td>\n",
       "      <td>66</td>\n",
       "      <td>850</td>\n",
       "      <td>16</td>\n",
       "      <td>15</td>\n",
       "      <td>yes</td>\n",
       "      <td>yes</td>\n",
       "      <td>yes</td>\n",
       "      <td>39</td>\n",
       "      <td>35</td>\n",
       "    </tr>\n",
       "    <tr>\n",
       "      <th>6256</th>\n",
       "      <td>2654</td>\n",
       "      <td>100</td>\n",
       "      <td>1200</td>\n",
       "      <td>24</td>\n",
       "      <td>15</td>\n",
       "      <td>yes</td>\n",
       "      <td>no</td>\n",
       "      <td>yes</td>\n",
       "      <td>39</td>\n",
       "      <td>35</td>\n",
       "    </tr>\n",
       "    <tr>\n",
       "      <th>6257</th>\n",
       "      <td>2195</td>\n",
       "      <td>100</td>\n",
       "      <td>850</td>\n",
       "      <td>16</td>\n",
       "      <td>15</td>\n",
       "      <td>yes</td>\n",
       "      <td>no</td>\n",
       "      <td>yes</td>\n",
       "      <td>39</td>\n",
       "      <td>35</td>\n",
       "    </tr>\n",
       "    <tr>\n",
       "      <th>6258</th>\n",
       "      <td>2490</td>\n",
       "      <td>100</td>\n",
       "      <td>850</td>\n",
       "      <td>16</td>\n",
       "      <td>17</td>\n",
       "      <td>yes</td>\n",
       "      <td>no</td>\n",
       "      <td>yes</td>\n",
       "      <td>39</td>\n",
       "      <td>35</td>\n",
       "    </tr>\n",
       "  </tbody>\n",
       "</table>\n",
       "</div>"
      ],
      "text/plain": [
       "      price  speed    hd  ram  screen   cd multi premium  ads  trend\n",
       "6254   1690    100   528    8      15   no    no     yes   39     35\n",
       "6255   2223     66   850   16      15  yes   yes     yes   39     35\n",
       "6256   2654    100  1200   24      15  yes    no     yes   39     35\n",
       "6257   2195    100   850   16      15  yes    no     yes   39     35\n",
       "6258   2490    100   850   16      17  yes    no     yes   39     35"
      ]
     },
     "execution_count": 4,
     "metadata": {},
     "output_type": "execute_result"
    }
   ],
   "source": [
    "import pandas as pd\n",
    "import seaborn as sns\n",
    "import statsmodels.api as sm\n",
    "import numpy as np\n",
    "from sklearn.metrics import r2_score as r2\n",
    "from sklearn.metrics import mean_absolute_error as mae\n",
    "\n",
    "\n",
    "computers = pd.read_csv(\"../Data/Computers.csv\")\n",
    "\n",
    "computers.tail()"
   ]
  },
  {
   "cell_type": "code",
   "execution_count": 5,
   "id": "1cfab9e8",
   "metadata": {},
   "outputs": [],
   "source": [
    "# Use the dataframe below for model fitting, afterwards, feel free to try more feature engineering!\n",
    "\n",
    "computers_eng = (\n",
    "    pd.get_dummies(\n",
    "        computers.assign(\n",
    "            hd2 = computers[\"hd\"] ** 2,\n",
    "            hd3 = computers[\"hd\"] ** 3,\n",
    "        ),\n",
    "    drop_first=True    \n",
    "    )\n",
    ")"
   ]
  },
  {
   "cell_type": "code",
   "execution_count": 6,
   "id": "a150fcfe",
   "metadata": {},
   "outputs": [],
   "source": [
    "from sklearn.model_selection import train_test_split\n",
    "\n",
    "X = sm.add_constant(computers_eng.drop(\"price\", axis=1))\n",
    "y = np.log(computers[\"price\"])\n",
    "\n",
    "# Test Split\n",
    "\n",
    "X, X_test, y, y_test = train_test_split(X, y, test_size=.2, random_state=12345)"
   ]
  },
  {
   "cell_type": "code",
   "execution_count": 8,
   "id": "274c7756",
   "metadata": {},
   "outputs": [
    {
     "name": "stdout",
     "output_type": "stream",
     "text": [
      "Training R2: 0.8049349026307837\n",
      "Training MAE: 0.0873750253656206\n"
     ]
    }
   ],
   "source": [
    "model = sm.OLS(y, X).fit()\n",
    "\n",
    "#model.summary()\n",
    "\n",
    "print(f\"Training R2: {r2(y, model.predict(X))}\")\n",
    "print(f\"Training MAE: {mae(y, model.predict(X))}\")"
   ]
  },
  {
   "cell_type": "code",
   "execution_count": 9,
   "id": "f83fb336",
   "metadata": {},
   "outputs": [
    {
     "name": "stdout",
     "output_type": "stream",
     "text": [
      "Test R2: 0.8106348481860446\n",
      "Test MAE: 0.08744222739943998\n"
     ]
    }
   ],
   "source": [
    "print(f\"Test R2: {r2(y_test, model.predict(X_test))}\")\n",
    "print(f\"Test MAE: {mae(y_test, model.predict(X_test))}\")"
   ]
  },
  {
   "cell_type": "markdown",
   "id": "4e3a412a",
   "metadata": {},
   "source": [
    "## Assignment 1: Ridge Regression\n",
    "\n",
    "Fit a ridge regression model using ridgeCV and compare the accuracy to the model above. \n",
    "\n",
    "Don't forget to standardize your data!"
   ]
  },
  {
   "cell_type": "code",
   "execution_count": 11,
   "id": "5ac7b0fa",
   "metadata": {},
   "outputs": [],
   "source": [
    "from sklearn.preprocessing import StandardScaler\n"
   ]
  },
  {
   "cell_type": "code",
   "execution_count": 12,
   "id": "d9161dae",
   "metadata": {},
   "outputs": [
    {
     "name": "stdout",
     "output_type": "stream",
     "text": [
      "0.8048079003150022\n",
      "0.08735780764699269\n",
      "2.2219468609395236\n"
     ]
    }
   ],
   "source": [
    "from sklearn.linear_model import RidgeCV\n"
   ]
  },
  {
   "cell_type": "code",
   "execution_count": 13,
   "id": "833f1933",
   "metadata": {},
   "outputs": [
    {
     "name": "stdout",
     "output_type": "stream",
     "text": [
      "0.8114548776779424\n",
      "0.0872495791435326\n"
     ]
    }
   ],
   "source": []
  },
  {
   "cell_type": "markdown",
   "id": "aa64c579",
   "metadata": {},
   "source": [
    "# Assignment 2: Lasso Regression\n",
    "\n",
    "Fit a lasso regression model using LassoCV and compare the accuracy to the models above! \n",
    "\n",
    "Did any coefficient values drop to zero?"
   ]
  },
  {
   "cell_type": "code",
   "execution_count": 14,
   "id": "4e643614",
   "metadata": {},
   "outputs": [
    {
     "name": "stdout",
     "output_type": "stream",
     "text": [
      "0.7990178822046732\n",
      "0.08856024399732959\n",
      "0.001\n"
     ]
    }
   ],
   "source": [
    "from sklearn.linear_model import LassoCV\n"
   ]
  },
  {
   "cell_type": "markdown",
   "id": "fed8f94c",
   "metadata": {},
   "source": [
    "## Assignment 3: Elastic Net Regression\n",
    "\n",
    "Fit an elastic net regression model using ElasticNetCV and compare the accuracy to the models above! \n",
    "\n",
    "What was the optimal L1 Ratio?"
   ]
  },
  {
   "cell_type": "code",
   "execution_count": 17,
   "id": "1a219948",
   "metadata": {
    "scrolled": false
   },
   "outputs": [
    {
     "name": "stdout",
     "output_type": "stream",
     "text": [
      "0.8043966703829291\n",
      "0.8116153465368512\n",
      "0.001\n",
      "0.01\n"
     ]
    }
   ],
   "source": [
    "from sklearn.linear_model import ElasticNetCV\n"
   ]
  }
 ],
 "metadata": {
  "kernelspec": {
   "display_name": "Python 3 (ipykernel)",
   "language": "python",
   "name": "python3"
  },
  "language_info": {
   "codemirror_mode": {
    "name": "ipython",
    "version": 3
   },
   "file_extension": ".py",
   "mimetype": "text/x-python",
   "name": "python",
   "nbconvert_exporter": "python",
   "pygments_lexer": "ipython3",
   "version": "3.11.3"
  }
 },
 "nbformat": 4,
 "nbformat_minor": 5
}
