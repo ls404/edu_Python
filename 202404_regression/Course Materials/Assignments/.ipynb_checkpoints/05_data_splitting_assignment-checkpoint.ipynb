{
 "cells": [
  {
   "cell_type": "markdown",
   "id": "fc41d5ee",
   "metadata": {},
   "source": [
    "## Assignment: Data Splitting\n",
    "\n",
    "1. Split your data into a training and test set\n",
    "2. Use cross validation to fit a model on all numeric features. Report r2 values for each validation fold.\n",
    "3. Fit your model on all of your training data and score on the test dataset. "
   ]
  },
  {
   "cell_type": "code",
   "execution_count": null,
   "id": "a425ac94",
   "metadata": {},
   "outputs": [],
   "source": [
    "import pandas as pd\n",
    "import seaborn as sns\n",
    "import statsmodels.api as sm\n",
    "import numpy as np\n",
    "\n",
    "computers = pd.read_csv(\"../Data/Computers.csv\")\n",
    "\n",
    "computers.tail()"
   ]
  },
  {
   "cell_type": "markdown",
   "id": "2db236e7",
   "metadata": {},
   "source": [
    "### Test Data Split"
   ]
  },
  {
   "cell_type": "code",
   "execution_count": null,
   "id": "93ca7417",
   "metadata": {},
   "outputs": [],
   "source": [
    "from sklearn.model_selection import train_test_split\n",
    "\n",
    "features = [\"speed\", \"hd\", \"ram\", \"screen\", \"ads\", \"trend\"]\n",
    "\n",
    "X = sm.add_constant(computers[features])\n",
    "y = computers[\"price\"]\n",
    "\n",
    "# Test Split Here\n"
   ]
  },
  {
   "cell_type": "markdown",
   "id": "81e3a5f2",
   "metadata": {},
   "source": [
    "### Cross Validation Loop "
   ]
  },
  {
   "cell_type": "code",
   "execution_count": null,
   "id": "a6dd2fb4",
   "metadata": {},
   "outputs": [],
   "source": [
    "from sklearn.model_selection import KFold\n",
    "from sklearn.metrics import r2_score as r2\n",
    "from sklearn.metrics import mean_absolute_error as mae\n",
    "\n",
    "\n",
    "# Use Kfold to create a cross validation objevt\n",
    "\n",
    "# Create a list to store validation scores for each fold\n",
    "cv_lm_r2s = []\n",
    "cv_lm_mae = []\n",
    "\n",
    "# Loop through each fold in X and y\n",
    "for train_ind, val_ind in kf.split(X, y):\n",
    "    # Subset data based on CV folds\n",
    "    X_train, y_train = X.iloc[train_ind], y.iloc[train_ind]\n",
    "    X_val, y_val = X.iloc[val_ind], y.iloc[val_ind]\n",
    "    # Fit the Model on fold's training data\n",
    "    model = sm.OLS(y_train, X_train).fit()\n",
    "    # Append Validation score to list \n",
    "    cv_lm_r2s.append(r2(y_val, model.predict(X_val),))\n",
    "    cv_lm_mae.append(mae(y_val, model.predict(X_val),))\n",
    "\n",
    "print(\"All Validation R2s: \", [round(x, 3) for x in cv_lm_r2s])\n",
    "print(f\"Cross Val R2s: {round(np.mean(cv_lm_r2s), 3)} +- {round(np.std(cv_lm_r2s), 3)}\")\n",
    "\n",
    "print(\"All Validation MAEs: \", [round(x, 3) for x in cv_lm_mae])\n",
    "print(f\"Cross Val MAEs: {round(np.mean(cv_lm_mae), 3)} +- {round(np.std(cv_lm_mae), 3)}\")"
   ]
  },
  {
   "cell_type": "markdown",
   "id": "4a3775fa",
   "metadata": {},
   "source": [
    "### Model Fit on All Training Data"
   ]
  },
  {
   "cell_type": "code",
   "execution_count": null,
   "id": "618034d9",
   "metadata": {},
   "outputs": [],
   "source": []
  },
  {
   "cell_type": "markdown",
   "id": "b1d765cc",
   "metadata": {},
   "source": [
    "### Score on Test Data"
   ]
  },
  {
   "cell_type": "code",
   "execution_count": null,
   "id": "89f3d4a1",
   "metadata": {},
   "outputs": [],
   "source": []
  },
  {
   "cell_type": "code",
   "execution_count": null,
   "id": "9771fec3",
   "metadata": {},
   "outputs": [],
   "source": []
  }
 ],
 "metadata": {
  "kernelspec": {
   "display_name": "Python 3 (ipykernel)",
   "language": "python",
   "name": "python3"
  },
  "language_info": {
   "codemirror_mode": {
    "name": "ipython",
    "version": 3
   },
   "file_extension": ".py",
   "mimetype": "text/x-python",
   "name": "python",
   "nbconvert_exporter": "python",
   "pygments_lexer": "ipython3",
   "version": "3.11.3"
  }
 },
 "nbformat": 4,
 "nbformat_minor": 5
}
