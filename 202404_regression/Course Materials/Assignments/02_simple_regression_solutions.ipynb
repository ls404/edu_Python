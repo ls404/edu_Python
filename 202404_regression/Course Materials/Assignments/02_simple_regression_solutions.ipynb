{
 "cells": [
  {
   "cell_type": "markdown",
   "id": "865cdb41",
   "metadata": {},
   "source": [
    "# Assignment 1: Simple Linear Regression\n",
    "\n",
    "1. Read in the \"Computers.csv\" file & perform any desired EDA.\n",
    "2. Fit a regression model with target = \"price\".  Fit your model on the feature with the strongest correlation to price\n",
    "3. Interpret the model equation\n",
    "4. Visualize the residuals of your model\n",
    "5. Make predictions for common values of your feature"
   ]
  },
  {
   "cell_type": "code",
   "execution_count": 1,
   "id": "c298500d",
   "metadata": {},
   "outputs": [
    {
     "data": {
      "text/html": [
       "<div>\n",
       "<style scoped>\n",
       "    .dataframe tbody tr th:only-of-type {\n",
       "        vertical-align: middle;\n",
       "    }\n",
       "\n",
       "    .dataframe tbody tr th {\n",
       "        vertical-align: top;\n",
       "    }\n",
       "\n",
       "    .dataframe thead th {\n",
       "        text-align: right;\n",
       "    }\n",
       "</style>\n",
       "<table border=\"1\" class=\"dataframe\">\n",
       "  <thead>\n",
       "    <tr style=\"text-align: right;\">\n",
       "      <th></th>\n",
       "      <th>price</th>\n",
       "      <th>speed</th>\n",
       "      <th>hd</th>\n",
       "      <th>ram</th>\n",
       "      <th>screen</th>\n",
       "      <th>cd</th>\n",
       "      <th>multi</th>\n",
       "      <th>premium</th>\n",
       "      <th>ads</th>\n",
       "      <th>trend</th>\n",
       "    </tr>\n",
       "  </thead>\n",
       "  <tbody>\n",
       "    <tr>\n",
       "      <th>0</th>\n",
       "      <td>1499</td>\n",
       "      <td>25</td>\n",
       "      <td>80</td>\n",
       "      <td>4</td>\n",
       "      <td>14</td>\n",
       "      <td>no</td>\n",
       "      <td>no</td>\n",
       "      <td>yes</td>\n",
       "      <td>94</td>\n",
       "      <td>1</td>\n",
       "    </tr>\n",
       "    <tr>\n",
       "      <th>1</th>\n",
       "      <td>1795</td>\n",
       "      <td>33</td>\n",
       "      <td>85</td>\n",
       "      <td>2</td>\n",
       "      <td>14</td>\n",
       "      <td>no</td>\n",
       "      <td>no</td>\n",
       "      <td>yes</td>\n",
       "      <td>94</td>\n",
       "      <td>1</td>\n",
       "    </tr>\n",
       "    <tr>\n",
       "      <th>2</th>\n",
       "      <td>1595</td>\n",
       "      <td>25</td>\n",
       "      <td>170</td>\n",
       "      <td>4</td>\n",
       "      <td>15</td>\n",
       "      <td>no</td>\n",
       "      <td>no</td>\n",
       "      <td>yes</td>\n",
       "      <td>94</td>\n",
       "      <td>1</td>\n",
       "    </tr>\n",
       "    <tr>\n",
       "      <th>3</th>\n",
       "      <td>1849</td>\n",
       "      <td>25</td>\n",
       "      <td>170</td>\n",
       "      <td>8</td>\n",
       "      <td>14</td>\n",
       "      <td>no</td>\n",
       "      <td>no</td>\n",
       "      <td>no</td>\n",
       "      <td>94</td>\n",
       "      <td>1</td>\n",
       "    </tr>\n",
       "    <tr>\n",
       "      <th>4</th>\n",
       "      <td>3295</td>\n",
       "      <td>33</td>\n",
       "      <td>340</td>\n",
       "      <td>16</td>\n",
       "      <td>14</td>\n",
       "      <td>no</td>\n",
       "      <td>no</td>\n",
       "      <td>yes</td>\n",
       "      <td>94</td>\n",
       "      <td>1</td>\n",
       "    </tr>\n",
       "  </tbody>\n",
       "</table>\n",
       "</div>"
      ],
      "text/plain": [
       "   price  speed   hd  ram  screen  cd multi premium  ads  trend\n",
       "0   1499     25   80    4      14  no    no     yes   94      1\n",
       "1   1795     33   85    2      14  no    no     yes   94      1\n",
       "2   1595     25  170    4      15  no    no     yes   94      1\n",
       "3   1849     25  170    8      14  no    no      no   94      1\n",
       "4   3295     33  340   16      14  no    no     yes   94      1"
      ]
     },
     "execution_count": 1,
     "metadata": {},
     "output_type": "execute_result"
    }
   ],
   "source": [
    "import pandas as pd\n",
    "\n",
    "computers = pd.read_csv(\"../Data/Computers.csv\")\n",
    "\n",
    "computers.head()"
   ]
  },
  {
   "cell_type": "code",
   "execution_count": 2,
   "id": "f8b233f5",
   "metadata": {},
   "outputs": [
    {
     "name": "stdout",
     "output_type": "stream",
     "text": [
      "<class 'pandas.core.frame.DataFrame'>\n",
      "RangeIndex: 6259 entries, 0 to 6258\n",
      "Data columns (total 10 columns):\n",
      " #   Column   Non-Null Count  Dtype \n",
      "---  ------   --------------  ----- \n",
      " 0   price    6259 non-null   int64 \n",
      " 1   speed    6259 non-null   int64 \n",
      " 2   hd       6259 non-null   int64 \n",
      " 3   ram      6259 non-null   int64 \n",
      " 4   screen   6259 non-null   int64 \n",
      " 5   cd       6259 non-null   object\n",
      " 6   multi    6259 non-null   object\n",
      " 7   premium  6259 non-null   object\n",
      " 8   ads      6259 non-null   int64 \n",
      " 9   trend    6259 non-null   int64 \n",
      "dtypes: int64(7), object(3)\n",
      "memory usage: 489.1+ KB\n"
     ]
    }
   ],
   "source": [
    "computers.info()"
   ]
  },
  {
   "cell_type": "markdown",
   "id": "4c015888",
   "metadata": {},
   "source": [
    "### EDA"
   ]
  },
  {
   "cell_type": "code",
   "execution_count": 3,
   "id": "ac435c40",
   "metadata": {
    "scrolled": true
   },
   "outputs": [
    {
     "data": {
      "text/html": [
       "<div>\n",
       "<style scoped>\n",
       "    .dataframe tbody tr th:only-of-type {\n",
       "        vertical-align: middle;\n",
       "    }\n",
       "\n",
       "    .dataframe tbody tr th {\n",
       "        vertical-align: top;\n",
       "    }\n",
       "\n",
       "    .dataframe thead th {\n",
       "        text-align: right;\n",
       "    }\n",
       "</style>\n",
       "<table border=\"1\" class=\"dataframe\">\n",
       "  <thead>\n",
       "    <tr style=\"text-align: right;\">\n",
       "      <th></th>\n",
       "      <th>price</th>\n",
       "      <th>speed</th>\n",
       "      <th>hd</th>\n",
       "      <th>ram</th>\n",
       "      <th>screen</th>\n",
       "      <th>ads</th>\n",
       "      <th>trend</th>\n",
       "    </tr>\n",
       "  </thead>\n",
       "  <tbody>\n",
       "    <tr>\n",
       "      <th>count</th>\n",
       "      <td>6259.000000</td>\n",
       "      <td>6259.000000</td>\n",
       "      <td>6259.000000</td>\n",
       "      <td>6259.000000</td>\n",
       "      <td>6259.000000</td>\n",
       "      <td>6259.000000</td>\n",
       "      <td>6259.000000</td>\n",
       "    </tr>\n",
       "    <tr>\n",
       "      <th>mean</th>\n",
       "      <td>2219.576610</td>\n",
       "      <td>52.011024</td>\n",
       "      <td>416.601694</td>\n",
       "      <td>8.286947</td>\n",
       "      <td>14.608723</td>\n",
       "      <td>221.301007</td>\n",
       "      <td>15.926985</td>\n",
       "    </tr>\n",
       "    <tr>\n",
       "      <th>std</th>\n",
       "      <td>580.803956</td>\n",
       "      <td>21.157735</td>\n",
       "      <td>258.548445</td>\n",
       "      <td>5.631099</td>\n",
       "      <td>0.905115</td>\n",
       "      <td>74.835284</td>\n",
       "      <td>7.873984</td>\n",
       "    </tr>\n",
       "    <tr>\n",
       "      <th>min</th>\n",
       "      <td>949.000000</td>\n",
       "      <td>25.000000</td>\n",
       "      <td>80.000000</td>\n",
       "      <td>2.000000</td>\n",
       "      <td>14.000000</td>\n",
       "      <td>39.000000</td>\n",
       "      <td>1.000000</td>\n",
       "    </tr>\n",
       "    <tr>\n",
       "      <th>25%</th>\n",
       "      <td>1794.000000</td>\n",
       "      <td>33.000000</td>\n",
       "      <td>214.000000</td>\n",
       "      <td>4.000000</td>\n",
       "      <td>14.000000</td>\n",
       "      <td>162.500000</td>\n",
       "      <td>10.000000</td>\n",
       "    </tr>\n",
       "    <tr>\n",
       "      <th>50%</th>\n",
       "      <td>2144.000000</td>\n",
       "      <td>50.000000</td>\n",
       "      <td>340.000000</td>\n",
       "      <td>8.000000</td>\n",
       "      <td>14.000000</td>\n",
       "      <td>246.000000</td>\n",
       "      <td>16.000000</td>\n",
       "    </tr>\n",
       "    <tr>\n",
       "      <th>75%</th>\n",
       "      <td>2595.000000</td>\n",
       "      <td>66.000000</td>\n",
       "      <td>528.000000</td>\n",
       "      <td>8.000000</td>\n",
       "      <td>15.000000</td>\n",
       "      <td>275.000000</td>\n",
       "      <td>21.500000</td>\n",
       "    </tr>\n",
       "    <tr>\n",
       "      <th>max</th>\n",
       "      <td>5399.000000</td>\n",
       "      <td>100.000000</td>\n",
       "      <td>2100.000000</td>\n",
       "      <td>32.000000</td>\n",
       "      <td>17.000000</td>\n",
       "      <td>339.000000</td>\n",
       "      <td>35.000000</td>\n",
       "    </tr>\n",
       "  </tbody>\n",
       "</table>\n",
       "</div>"
      ],
      "text/plain": [
       "             price        speed           hd          ram       screen  \\\n",
       "count  6259.000000  6259.000000  6259.000000  6259.000000  6259.000000   \n",
       "mean   2219.576610    52.011024   416.601694     8.286947    14.608723   \n",
       "std     580.803956    21.157735   258.548445     5.631099     0.905115   \n",
       "min     949.000000    25.000000    80.000000     2.000000    14.000000   \n",
       "25%    1794.000000    33.000000   214.000000     4.000000    14.000000   \n",
       "50%    2144.000000    50.000000   340.000000     8.000000    14.000000   \n",
       "75%    2595.000000    66.000000   528.000000     8.000000    15.000000   \n",
       "max    5399.000000   100.000000  2100.000000    32.000000    17.000000   \n",
       "\n",
       "               ads        trend  \n",
       "count  6259.000000  6259.000000  \n",
       "mean    221.301007    15.926985  \n",
       "std      74.835284     7.873984  \n",
       "min      39.000000     1.000000  \n",
       "25%     162.500000    10.000000  \n",
       "50%     246.000000    16.000000  \n",
       "75%     275.000000    21.500000  \n",
       "max     339.000000    35.000000  "
      ]
     },
     "execution_count": 3,
     "metadata": {},
     "output_type": "execute_result"
    }
   ],
   "source": [
    "computers.describe()"
   ]
  },
  {
   "cell_type": "code",
   "execution_count": 4,
   "id": "cad6108e",
   "metadata": {},
   "outputs": [
    {
     "data": {
      "text/plain": [
       "<Axes: xlabel='price', ylabel='Count'>"
      ]
     },
     "execution_count": 4,
     "metadata": {},
     "output_type": "execute_result"
    },
    {
     "data": {
      "image/png": "[encoded data removed]",
      "text/plain": [
       "<Figure size 640x480 with 1 Axes>"
      ]
     },
     "metadata": {},
     "output_type": "display_data"
    }
   ],
   "source": [
    "# target variable distribution - it's skewed right with a few outliers\n",
    "\n",
    "import seaborn as sns\n",
    "\n",
    "sns.histplot(computers[\"price\"])"
   ]
  },
  {
   "cell_type": "code",
   "execution_count": 5,
   "id": "b4862377",
   "metadata": {},
   "outputs": [
    {
     "data": {
      "text/html": [
       "<div>\n",
       "<style scoped>\n",
       "    .dataframe tbody tr th:only-of-type {\n",
       "        vertical-align: middle;\n",
       "    }\n",
       "\n",
       "    .dataframe tbody tr th {\n",
       "        vertical-align: top;\n",
       "    }\n",
       "\n",
       "    .dataframe thead th {\n",
       "        text-align: right;\n",
       "    }\n",
       "</style>\n",
       "<table border=\"1\" class=\"dataframe\">\n",
       "  <thead>\n",
       "    <tr style=\"text-align: right;\">\n",
       "      <th></th>\n",
       "      <th>price</th>\n",
       "      <th>speed</th>\n",
       "      <th>hd</th>\n",
       "      <th>ram</th>\n",
       "      <th>screen</th>\n",
       "      <th>ads</th>\n",
       "      <th>trend</th>\n",
       "    </tr>\n",
       "  </thead>\n",
       "  <tbody>\n",
       "    <tr>\n",
       "      <th>price</th>\n",
       "      <td>1.000000</td>\n",
       "      <td>0.300976</td>\n",
       "      <td>0.430258</td>\n",
       "      <td>0.622748</td>\n",
       "      <td>0.296041</td>\n",
       "      <td>0.054540</td>\n",
       "      <td>-0.199987</td>\n",
       "    </tr>\n",
       "    <tr>\n",
       "      <th>speed</th>\n",
       "      <td>0.300976</td>\n",
       "      <td>1.000000</td>\n",
       "      <td>0.372304</td>\n",
       "      <td>0.234760</td>\n",
       "      <td>0.189074</td>\n",
       "      <td>-0.215232</td>\n",
       "      <td>0.405438</td>\n",
       "    </tr>\n",
       "    <tr>\n",
       "      <th>hd</th>\n",
       "      <td>0.430258</td>\n",
       "      <td>0.372304</td>\n",
       "      <td>1.000000</td>\n",
       "      <td>0.777726</td>\n",
       "      <td>0.232802</td>\n",
       "      <td>-0.323222</td>\n",
       "      <td>0.577790</td>\n",
       "    </tr>\n",
       "    <tr>\n",
       "      <th>ram</th>\n",
       "      <td>0.622748</td>\n",
       "      <td>0.234760</td>\n",
       "      <td>0.777726</td>\n",
       "      <td>1.000000</td>\n",
       "      <td>0.208954</td>\n",
       "      <td>-0.181670</td>\n",
       "      <td>0.276844</td>\n",
       "    </tr>\n",
       "    <tr>\n",
       "      <th>screen</th>\n",
       "      <td>0.296041</td>\n",
       "      <td>0.189074</td>\n",
       "      <td>0.232802</td>\n",
       "      <td>0.208954</td>\n",
       "      <td>1.000000</td>\n",
       "      <td>-0.093919</td>\n",
       "      <td>0.188614</td>\n",
       "    </tr>\n",
       "    <tr>\n",
       "      <th>ads</th>\n",
       "      <td>0.054540</td>\n",
       "      <td>-0.215232</td>\n",
       "      <td>-0.323222</td>\n",
       "      <td>-0.181670</td>\n",
       "      <td>-0.093919</td>\n",
       "      <td>1.000000</td>\n",
       "      <td>-0.318553</td>\n",
       "    </tr>\n",
       "    <tr>\n",
       "      <th>trend</th>\n",
       "      <td>-0.199987</td>\n",
       "      <td>0.405438</td>\n",
       "      <td>0.577790</td>\n",
       "      <td>0.276844</td>\n",
       "      <td>0.188614</td>\n",
       "      <td>-0.318553</td>\n",
       "      <td>1.000000</td>\n",
       "    </tr>\n",
       "  </tbody>\n",
       "</table>\n",
       "</div>"
      ],
      "text/plain": [
       "           price     speed        hd       ram    screen       ads     trend\n",
       "price   1.000000  0.300976  0.430258  0.622748  0.296041  0.054540 -0.199987\n",
       "speed   0.300976  1.000000  0.372304  0.234760  0.189074 -0.215232  0.405438\n",
       "hd      0.430258  0.372304  1.000000  0.777726  0.232802 -0.323222  0.577790\n",
       "ram     0.622748  0.234760  0.777726  1.000000  0.208954 -0.181670  0.276844\n",
       "screen  0.296041  0.189074  0.232802  0.208954  1.000000 -0.093919  0.188614\n",
       "ads     0.054540 -0.215232 -0.323222 -0.181670 -0.093919  1.000000 -0.318553\n",
       "trend  -0.199987  0.405438  0.577790  0.276844  0.188614 -0.318553  1.000000"
      ]
     },
     "execution_count": 5,
     "metadata": {},
     "output_type": "execute_result"
    }
   ],
   "source": [
    "# ram is most highly correlated\n",
    "\n",
    "computers.corr(numeric_only=True)"
   ]
  },
  {
   "cell_type": "code",
   "execution_count": 6,
   "id": "2996cfec",
   "metadata": {},
   "outputs": [
    {
     "data": {
      "image/png": "[encoded data removed]",
      "text/plain": [
       "<Figure size 640x480 with 1 Axes>"
      ]
     },
     "metadata": {},
     "output_type": "display_data"
    }
   ],
   "source": [
    "# few unique values of ram but price goes us as ram does\n",
    "\n",
    "computers.plot.scatter(x=\"ram\", y=\"price\").set_ylim(0)\n",
    "\n",
    "sns.despine()"
   ]
  },
  {
   "cell_type": "markdown",
   "id": "992367a4",
   "metadata": {},
   "source": [
    "### Model Fitting"
   ]
  },
  {
   "cell_type": "code",
   "execution_count": 7,
   "id": "f863026c",
   "metadata": {},
   "outputs": [
    {
     "data": {
      "text/html": [
       "<table class=\"simpletable\">\n",
       "<caption>OLS Regression Results</caption>\n",
       "<tr>\n",
       "  <th>Dep. Variable:</th>          <td>price</td>      <th>  R-squared:         </th> <td>   0.388</td> \n",
       "</tr>\n",
       "<tr>\n",
       "  <th>Model:</th>                   <td>OLS</td>       <th>  Adj. R-squared:    </th> <td>   0.388</td> \n",
       "</tr>\n",
       "<tr>\n",
       "  <th>Method:</th>             <td>Least Squares</td>  <th>  F-statistic:       </th> <td>   3964.</td> \n",
       "</tr>\n",
       "<tr>\n",
       "  <th>Date:</th>             <td>Wed, 23 Aug 2023</td> <th>  Prob (F-statistic):</th>  <td>  0.00</td>  \n",
       "</tr>\n",
       "<tr>\n",
       "  <th>Time:</th>                 <td>12:56:00</td>     <th>  Log-Likelihood:    </th> <td> -47180.</td> \n",
       "</tr>\n",
       "<tr>\n",
       "  <th>No. Observations:</th>      <td>  6259</td>      <th>  AIC:               </th> <td>9.436e+04</td>\n",
       "</tr>\n",
       "<tr>\n",
       "  <th>Df Residuals:</th>          <td>  6257</td>      <th>  BIC:               </th> <td>9.438e+04</td>\n",
       "</tr>\n",
       "<tr>\n",
       "  <th>Df Model:</th>              <td>     1</td>      <th>                     </th>     <td> </td>    \n",
       "</tr>\n",
       "<tr>\n",
       "  <th>Covariance Type:</th>      <td>nonrobust</td>    <th>                     </th>     <td> </td>    \n",
       "</tr>\n",
       "</table>\n",
       "<table class=\"simpletable\">\n",
       "<tr>\n",
       "    <td></td>       <th>coef</th>     <th>std err</th>      <th>t</th>      <th>P>|t|</th>  <th>[0.025</th>    <th>0.975]</th>  \n",
       "</tr>\n",
       "<tr>\n",
       "  <th>const</th> <td> 1687.2925</td> <td>   10.221</td> <td>  165.073</td> <td> 0.000</td> <td> 1667.255</td> <td> 1707.330</td>\n",
       "</tr>\n",
       "<tr>\n",
       "  <th>ram</th>   <td>   64.2316</td> <td>    1.020</td> <td>   62.959</td> <td> 0.000</td> <td>   62.232</td> <td>   66.232</td>\n",
       "</tr>\n",
       "</table>\n",
       "<table class=\"simpletable\">\n",
       "<tr>\n",
       "  <th>Omnibus:</th>       <td>1327.783</td> <th>  Durbin-Watson:     </th> <td>   1.533</td>\n",
       "</tr>\n",
       "<tr>\n",
       "  <th>Prob(Omnibus):</th>  <td> 0.000</td>  <th>  Jarque-Bera (JB):  </th> <td>3113.140</td>\n",
       "</tr>\n",
       "<tr>\n",
       "  <th>Skew:</th>           <td> 1.188</td>  <th>  Prob(JB):          </th> <td>    0.00</td>\n",
       "</tr>\n",
       "<tr>\n",
       "  <th>Kurtosis:</th>       <td> 5.508</td>  <th>  Cond. No.          </th> <td>    17.9</td>\n",
       "</tr>\n",
       "</table><br/><br/>Notes:<br/>[1] Standard Errors assume that the covariance matrix of the errors is correctly specified."
      ],
      "text/plain": [
       "<class 'statsmodels.iolib.summary.Summary'>\n",
       "\"\"\"\n",
       "                            OLS Regression Results                            \n",
       "==============================================================================\n",
       "Dep. Variable:                  price   R-squared:                       0.388\n",
       "Model:                            OLS   Adj. R-squared:                  0.388\n",
       "Method:                 Least Squares   F-statistic:                     3964.\n",
       "Date:                Wed, 23 Aug 2023   Prob (F-statistic):               0.00\n",
       "Time:                        12:56:00   Log-Likelihood:                -47180.\n",
       "No. Observations:                6259   AIC:                         9.436e+04\n",
       "Df Residuals:                    6257   BIC:                         9.438e+04\n",
       "Df Model:                           1                                         \n",
       "Covariance Type:            nonrobust                                         \n",
       "==============================================================================\n",
       "                 coef    std err          t      P>|t|      [0.025      0.975]\n",
       "------------------------------------------------------------------------------\n",
       "const       1687.2925     10.221    165.073      0.000    1667.255    1707.330\n",
       "ram           64.2316      1.020     62.959      0.000      62.232      66.232\n",
       "==============================================================================\n",
       "Omnibus:                     1327.783   Durbin-Watson:                   1.533\n",
       "Prob(Omnibus):                  0.000   Jarque-Bera (JB):             3113.140\n",
       "Skew:                           1.188   Prob(JB):                         0.00\n",
       "Kurtosis:                       5.508   Cond. No.                         17.9\n",
       "==============================================================================\n",
       "\n",
       "Notes:\n",
       "[1] Standard Errors assume that the covariance matrix of the errors is correctly specified.\n",
       "\"\"\""
      ]
     },
     "execution_count": 7,
     "metadata": {},
     "output_type": "execute_result"
    }
   ],
   "source": [
    "# fitting model on `ram` and constant, with 'price' as target\n",
    "\n",
    "import statsmodels.api as sm\n",
    "\n",
    "X = sm.add_constant(computers[\"ram\"])\n",
    "y = computers[\"price\"]\n",
    "\n",
    "model = sm.OLS(y, X).fit()\n",
    "\n",
    "model.summary()"
   ]
  },
  {
   "cell_type": "markdown",
   "id": "1e2fbcc5",
   "metadata": {},
   "source": [
    "### Intepretation:\n",
    "\n",
    "A one megabyte increase in RAM is associated with a $64.29 increase in price."
   ]
  },
  {
   "cell_type": "markdown",
   "id": "183adea0",
   "metadata": {},
   "source": [
    "### Plotting Residuals"
   ]
  },
  {
   "cell_type": "code",
   "execution_count": 8,
   "id": "9c1a0bb3",
   "metadata": {
    "scrolled": true
   },
   "outputs": [
    {
     "data": {
      "image/png": "[encoded data removed]",
      "text/plain": [
       "<Figure size 640x480 with 1 Axes>"
      ]
     },
     "metadata": {},
     "output_type": "display_data"
    }
   ],
   "source": [
    "sns.scatterplot(x=model.predict(), y=model.resid)\n",
    "\n",
    "sns.despine()"
   ]
  },
  {
   "cell_type": "markdown",
   "id": "5de2c237",
   "metadata": {},
   "source": [
    "### Making Predictions"
   ]
  },
  {
   "cell_type": "code",
   "execution_count": 9,
   "id": "9731c750",
   "metadata": {},
   "outputs": [
    {
     "data": {
      "text/html": [
       "<div>\n",
       "<style scoped>\n",
       "    .dataframe tbody tr th:only-of-type {\n",
       "        vertical-align: middle;\n",
       "    }\n",
       "\n",
       "    .dataframe tbody tr th {\n",
       "        vertical-align: top;\n",
       "    }\n",
       "\n",
       "    .dataframe thead th {\n",
       "        text-align: right;\n",
       "    }\n",
       "</style>\n",
       "<table border=\"1\" class=\"dataframe\">\n",
       "  <thead>\n",
       "    <tr style=\"text-align: right;\">\n",
       "      <th></th>\n",
       "      <th>const</th>\n",
       "      <th>ram</th>\n",
       "    </tr>\n",
       "  </thead>\n",
       "  <tbody>\n",
       "    <tr>\n",
       "      <th>0</th>\n",
       "      <td>1.0</td>\n",
       "      <td>0</td>\n",
       "    </tr>\n",
       "    <tr>\n",
       "      <th>1</th>\n",
       "      <td>1.0</td>\n",
       "      <td>2</td>\n",
       "    </tr>\n",
       "    <tr>\n",
       "      <th>2</th>\n",
       "      <td>1.0</td>\n",
       "      <td>4</td>\n",
       "    </tr>\n",
       "    <tr>\n",
       "      <th>3</th>\n",
       "      <td>1.0</td>\n",
       "      <td>8</td>\n",
       "    </tr>\n",
       "    <tr>\n",
       "      <th>4</th>\n",
       "      <td>1.0</td>\n",
       "      <td>16</td>\n",
       "    </tr>\n",
       "    <tr>\n",
       "      <th>5</th>\n",
       "      <td>1.0</td>\n",
       "      <td>32</td>\n",
       "    </tr>\n",
       "    <tr>\n",
       "      <th>6</th>\n",
       "      <td>1.0</td>\n",
       "      <td>64</td>\n",
       "    </tr>\n",
       "  </tbody>\n",
       "</table>\n",
       "</div>"
      ],
      "text/plain": [
       "   const  ram\n",
       "0    1.0    0\n",
       "1    1.0    2\n",
       "2    1.0    4\n",
       "3    1.0    8\n",
       "4    1.0   16\n",
       "5    1.0   32\n",
       "6    1.0   64"
      ]
     },
     "execution_count": 9,
     "metadata": {},
     "output_type": "execute_result"
    }
   ],
   "source": [
    "feature_values = [0, 2, 4, 8, 16, 32, 64]\n",
    "\n",
    "predict_df = sm.add_constant(pd.DataFrame({\"ram\": feature_values}))\n",
    "\n",
    "predict_df"
   ]
  },
  {
   "cell_type": "code",
   "execution_count": 10,
   "id": "3f937ac5",
   "metadata": {},
   "outputs": [
    {
     "data": {
      "text/plain": [
       "0     1687.292537\n",
       "2     1815.755790\n",
       "4     1944.219043\n",
       "8     2201.145550\n",
       "16    2714.998564\n",
       "32    3742.704591\n",
       "64    5798.116644\n",
       "dtype: float64"
      ]
     },
     "execution_count": 10,
     "metadata": {},
     "output_type": "execute_result"
    }
   ],
   "source": [
    "# pass new feature dataframe into model\n",
    "\n",
    "predictions = model.predict(predict_df)\n",
    "\n",
    "predictions.index = feature_values\n",
    "\n",
    "predictions"
   ]
  }
 ],
 "metadata": {
  "kernelspec": {
   "display_name": "Python 3 (ipykernel)",
   "language": "python",
   "name": "python3"
  },
  "language_info": {
   "codemirror_mode": {
    "name": "ipython",
    "version": 3
   },
   "file_extension": ".py",
   "mimetype": "text/x-python",
   "name": "python",
   "nbconvert_exporter": "python",
   "pygments_lexer": "ipython3",
   "version": "3.11.3"
  }
 },
 "nbformat": 4,
 "nbformat_minor": 5
}
