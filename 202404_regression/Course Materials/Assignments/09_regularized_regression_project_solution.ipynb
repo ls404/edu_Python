{
 "cells": [
  {
   "cell_type": "markdown",
   "id": "d31a02d6",
   "metadata": {},
   "source": [
    "## Regularized Regression Project\n",
    "\n",
    "Build a linear regression model that predicts the `price` column in the dataset on San Francisco Apartment rentals. Make sure to go through all the the relevant steps of the modelling workflow.\n",
    "\n",
    "1. Use the model you built for the prior project as the basis for comparison\n",
    "2. Engineer (or un-engineer previously) engineered Features as needed\n",
    "3. Fit a Lasso, Ridge, and Elastic Net Regression using the features in your original model.\n",
    "4. Once you are ready, fit your final model and report final model performance estimate by scoring on the test data. Report both test R-squared and MAE.\n",
    "5. What happens to your error if you only model apartments <= 6000 in price... should we do this?\n",
    "\n",
    "Advice:\n",
    "\n",
    "1. Remember, regularization doesn't always help!"
   ]
  },
  {
   "cell_type": "code",
   "execution_count": 1,
   "id": "7cb398c6",
   "metadata": {},
   "outputs": [
    {
     "data": {
      "text/html": [
       "<div>\n",
       "<style scoped>\n",
       "    .dataframe tbody tr th:only-of-type {\n",
       "        vertical-align: middle;\n",
       "    }\n",
       "\n",
       "    .dataframe tbody tr th {\n",
       "        vertical-align: top;\n",
       "    }\n",
       "\n",
       "    .dataframe thead th {\n",
       "        text-align: right;\n",
       "    }\n",
       "</style>\n",
       "<table border=\"1\" class=\"dataframe\">\n",
       "  <thead>\n",
       "    <tr style=\"text-align: right;\">\n",
       "      <th></th>\n",
       "      <th>price</th>\n",
       "      <th>sqft</th>\n",
       "      <th>beds</th>\n",
       "      <th>bath</th>\n",
       "      <th>laundry</th>\n",
       "      <th>pets</th>\n",
       "      <th>housing_type</th>\n",
       "      <th>parking</th>\n",
       "      <th>hood_district</th>\n",
       "    </tr>\n",
       "  </thead>\n",
       "  <tbody>\n",
       "    <tr>\n",
       "      <th>0</th>\n",
       "      <td>6800</td>\n",
       "      <td>1600.0</td>\n",
       "      <td>2.0</td>\n",
       "      <td>2.0</td>\n",
       "      <td>(a) in-unit</td>\n",
       "      <td>(d) no pets</td>\n",
       "      <td>(c) multi</td>\n",
       "      <td>(b) protected</td>\n",
       "      <td>7.0</td>\n",
       "    </tr>\n",
       "    <tr>\n",
       "      <th>1</th>\n",
       "      <td>3500</td>\n",
       "      <td>550.0</td>\n",
       "      <td>1.0</td>\n",
       "      <td>1.0</td>\n",
       "      <td>(a) in-unit</td>\n",
       "      <td>(a) both</td>\n",
       "      <td>(c) multi</td>\n",
       "      <td>(b) protected</td>\n",
       "      <td>7.0</td>\n",
       "    </tr>\n",
       "    <tr>\n",
       "      <th>2</th>\n",
       "      <td>5100</td>\n",
       "      <td>1300.0</td>\n",
       "      <td>2.0</td>\n",
       "      <td>1.0</td>\n",
       "      <td>(a) in-unit</td>\n",
       "      <td>(a) both</td>\n",
       "      <td>(c) multi</td>\n",
       "      <td>(d) no parking</td>\n",
       "      <td>7.0</td>\n",
       "    </tr>\n",
       "    <tr>\n",
       "      <th>3</th>\n",
       "      <td>9000</td>\n",
       "      <td>3500.0</td>\n",
       "      <td>3.0</td>\n",
       "      <td>2.5</td>\n",
       "      <td>(a) in-unit</td>\n",
       "      <td>(d) no pets</td>\n",
       "      <td>(c) multi</td>\n",
       "      <td>(b) protected</td>\n",
       "      <td>7.0</td>\n",
       "    </tr>\n",
       "    <tr>\n",
       "      <th>4</th>\n",
       "      <td>3100</td>\n",
       "      <td>561.0</td>\n",
       "      <td>1.0</td>\n",
       "      <td>1.0</td>\n",
       "      <td>(c) no laundry</td>\n",
       "      <td>(a) both</td>\n",
       "      <td>(c) multi</td>\n",
       "      <td>(d) no parking</td>\n",
       "      <td>7.0</td>\n",
       "    </tr>\n",
       "  </tbody>\n",
       "</table>\n",
       "</div>"
      ],
      "text/plain": [
       "   price    sqft  beds  bath         laundry         pets housing_type  \\\n",
       "0   6800  1600.0   2.0   2.0     (a) in-unit  (d) no pets    (c) multi   \n",
       "1   3500   550.0   1.0   1.0     (a) in-unit     (a) both    (c) multi   \n",
       "2   5100  1300.0   2.0   1.0     (a) in-unit     (a) both    (c) multi   \n",
       "3   9000  3500.0   3.0   2.5     (a) in-unit  (d) no pets    (c) multi   \n",
       "4   3100   561.0   1.0   1.0  (c) no laundry     (a) both    (c) multi   \n",
       "\n",
       "          parking  hood_district  \n",
       "0   (b) protected            7.0  \n",
       "1   (b) protected            7.0  \n",
       "2  (d) no parking            7.0  \n",
       "3   (b) protected            7.0  \n",
       "4  (d) no parking            7.0  "
      ]
     },
     "execution_count": 1,
     "metadata": {},
     "output_type": "execute_result"
    }
   ],
   "source": [
    "import pandas as pd\n",
    "import numpy as np\n",
    "import matplotlib.pyplot as plt\n",
    "import seaborn as sns\n",
    "\n",
    "import statsmodels.api as sm\n",
    "from sklearn.model_selection import KFold\n",
    "from sklearn.metrics import r2_score as r2, mean_absolute_error as mae, mean_squared_error as mse\n",
    "\n",
    "rentals_df = pd.read_csv(\"../Data/sf_clean.csv\")\n",
    "\n",
    "rentals_df.head()"
   ]
  },
  {
   "cell_type": "markdown",
   "id": "c5f56df6",
   "metadata": {},
   "source": [
    "### Data Dictionary\n",
    "\n",
    "1. Price: The price of the rental and our target variable\n",
    "2. sqft: The area in square feet of the rental\n",
    "3. beds: The number of bedrooms in the rental\n",
    "4. bath: The number of bathrooms in the rental\n",
    "5. laundry: Does the rental have a laundry machine inside the house, a shared laundry machine, or no laundry on site?\n",
    "6. pets: Does the rental allow pets? Cats only, dogs only or both cats and dogs?\n",
    "7. Housing type: Is the rental in a multi-unit building, a building with two units, or a stand alone house? \n",
    "8. Parking: Does the apartment off a parking space? No, protected in a garage, off-street in a parking lot, or valet service?\n",
    "9. Hood district: Which part of San Francisco is the apartment located?\n",
    "\n",
    "![image info](SFAR_map.png)"
   ]
  },
  {
   "cell_type": "code",
   "execution_count": 2,
   "id": "3f5b3aa7",
   "metadata": {},
   "outputs": [
    {
     "name": "stdout",
     "output_type": "stream",
     "text": [
      "<class 'pandas.core.frame.DataFrame'>\n",
      "RangeIndex: 989 entries, 0 to 988\n",
      "Data columns (total 9 columns):\n",
      " #   Column         Non-Null Count  Dtype  \n",
      "---  ------         --------------  -----  \n",
      " 0   price          989 non-null    int64  \n",
      " 1   sqft           989 non-null    float64\n",
      " 2   beds           989 non-null    float64\n",
      " 3   bath           989 non-null    float64\n",
      " 4   laundry        989 non-null    object \n",
      " 5   pets           989 non-null    object \n",
      " 6   housing_type   989 non-null    object \n",
      " 7   parking        989 non-null    object \n",
      " 8   hood_district  989 non-null    float64\n",
      "dtypes: float64(4), int64(1), object(4)\n",
      "memory usage: 69.7+ KB\n"
     ]
    }
   ],
   "source": [
    "rentals_df.info()"
   ]
  },
  {
   "cell_type": "markdown",
   "id": "c873db9c",
   "metadata": {},
   "source": [
    "## EDA\n",
    "\n",
    "1. Based on the range of prices below, we may need to subset our data based on some value to predict more \"realistic\" apartments. Possibly subset based on square-footage.\n",
    "\n",
    "2. The 'hood_district' feature was read in as an integer but is really a categorical feature. Let's fix that.\n"
   ]
  },
  {
   "cell_type": "code",
   "execution_count": 3,
   "id": "61b8c19a",
   "metadata": {},
   "outputs": [],
   "source": [
    "rentals_df[\"hood_district\"] = rentals_df[\"hood_district\"].astype(\"object\") "
   ]
  },
  {
   "cell_type": "code",
   "execution_count": 4,
   "id": "7b9bc01c",
   "metadata": {},
   "outputs": [
    {
     "data": {
      "text/html": [
       "<div>\n",
       "<style scoped>\n",
       "    .dataframe tbody tr th:only-of-type {\n",
       "        vertical-align: middle;\n",
       "    }\n",
       "\n",
       "    .dataframe tbody tr th {\n",
       "        vertical-align: top;\n",
       "    }\n",
       "\n",
       "    .dataframe thead th {\n",
       "        text-align: right;\n",
       "    }\n",
       "</style>\n",
       "<table border=\"1\" class=\"dataframe\">\n",
       "  <thead>\n",
       "    <tr style=\"text-align: right;\">\n",
       "      <th></th>\n",
       "      <th>price</th>\n",
       "      <th>sqft</th>\n",
       "      <th>beds</th>\n",
       "      <th>bath</th>\n",
       "    </tr>\n",
       "  </thead>\n",
       "  <tbody>\n",
       "    <tr>\n",
       "      <th>count</th>\n",
       "      <td>989.000000</td>\n",
       "      <td>989.000000</td>\n",
       "      <td>989.000000</td>\n",
       "      <td>989.000000</td>\n",
       "    </tr>\n",
       "    <tr>\n",
       "      <th>mean</th>\n",
       "      <td>3595.035389</td>\n",
       "      <td>976.765420</td>\n",
       "      <td>1.679474</td>\n",
       "      <td>1.390293</td>\n",
       "    </tr>\n",
       "    <tr>\n",
       "      <th>std</th>\n",
       "      <td>1546.222670</td>\n",
       "      <td>474.629798</td>\n",
       "      <td>1.076710</td>\n",
       "      <td>0.562714</td>\n",
       "    </tr>\n",
       "    <tr>\n",
       "      <th>min</th>\n",
       "      <td>750.000000</td>\n",
       "      <td>150.000000</td>\n",
       "      <td>0.000000</td>\n",
       "      <td>1.000000</td>\n",
       "    </tr>\n",
       "    <tr>\n",
       "      <th>25%</th>\n",
       "      <td>2650.000000</td>\n",
       "      <td>650.000000</td>\n",
       "      <td>1.000000</td>\n",
       "      <td>1.000000</td>\n",
       "    </tr>\n",
       "    <tr>\n",
       "      <th>50%</th>\n",
       "      <td>3300.000000</td>\n",
       "      <td>900.000000</td>\n",
       "      <td>2.000000</td>\n",
       "      <td>1.000000</td>\n",
       "    </tr>\n",
       "    <tr>\n",
       "      <th>75%</th>\n",
       "      <td>4242.000000</td>\n",
       "      <td>1200.000000</td>\n",
       "      <td>2.000000</td>\n",
       "      <td>2.000000</td>\n",
       "    </tr>\n",
       "    <tr>\n",
       "      <th>max</th>\n",
       "      <td>19000.000000</td>\n",
       "      <td>3500.000000</td>\n",
       "      <td>6.000000</td>\n",
       "      <td>4.000000</td>\n",
       "    </tr>\n",
       "  </tbody>\n",
       "</table>\n",
       "</div>"
      ],
      "text/plain": [
       "              price         sqft        beds        bath\n",
       "count    989.000000   989.000000  989.000000  989.000000\n",
       "mean    3595.035389   976.765420    1.679474    1.390293\n",
       "std     1546.222670   474.629798    1.076710    0.562714\n",
       "min      750.000000   150.000000    0.000000    1.000000\n",
       "25%     2650.000000   650.000000    1.000000    1.000000\n",
       "50%     3300.000000   900.000000    2.000000    1.000000\n",
       "75%     4242.000000  1200.000000    2.000000    2.000000\n",
       "max    19000.000000  3500.000000    6.000000    4.000000"
      ]
     },
     "execution_count": 4,
     "metadata": {},
     "output_type": "execute_result"
    }
   ],
   "source": [
    "rentals_df.describe()"
   ]
  },
  {
   "cell_type": "markdown",
   "id": "7f97aa8b",
   "metadata": {},
   "source": [
    "There are some very rare, expensive apartments that cost over 10k."
   ]
  },
  {
   "cell_type": "code",
   "execution_count": 5,
   "id": "55fed7f0",
   "metadata": {},
   "outputs": [
    {
     "data": {
      "text/plain": [
       "<Axes: xlabel='price', ylabel='Count'>"
      ]
     },
     "execution_count": 5,
     "metadata": {},
     "output_type": "execute_result"
    },
    {
     "data": {
      "image/png": "[encoded data removed]",
      "text/plain": [
       "<Figure size 640x480 with 1 Axes>"
      ]
     },
     "metadata": {},
     "output_type": "display_data"
    }
   ],
   "source": [
    "sns.histplot(rentals_df, x=\"price\")"
   ]
  },
  {
   "cell_type": "markdown",
   "id": "b56c7fff",
   "metadata": {},
   "source": [
    "Most of our numeric features are positively correlated with each other, could cause problems.\n",
    "\n",
    "It's good to see that we have some strong correlations with our target here though."
   ]
  },
  {
   "cell_type": "code",
   "execution_count": 6,
   "id": "4cf8edf3",
   "metadata": {},
   "outputs": [],
   "source": [
    "# sns.heatmap(\n",
    "#     rentals_df.corr(numeric_only=True), \n",
    "#     vmin=-1, \n",
    "#     vmax=1, \n",
    "#     cmap=\"coolwarm\",\n",
    "#     annot=True\n",
    "# );"
   ]
  },
  {
   "cell_type": "markdown",
   "id": "a7073fec",
   "metadata": {},
   "source": [
    "Based on the pairplot below, we may be able to slice off the most expensive aparments by subsetting to only aparments <2500 sqft. "
   ]
  },
  {
   "cell_type": "code",
   "execution_count": 7,
   "id": "92b90f7c",
   "metadata": {},
   "outputs": [],
   "source": [
    "# sns.pairplot(rentals_df, corner=True)"
   ]
  },
  {
   "cell_type": "markdown",
   "id": "1907842a",
   "metadata": {},
   "source": [
    "Moving on to our categorical features, we have some rare categories that may need to be binned together.\n",
    "\n",
    "We should consider:\n",
    "\n",
    "1. Pets: Bin 'dogs', and 'both' into a 'dogs' 'allows_dogs' category.\n",
    "2. Housing_type: Group 'multi' and 'double' together\n",
    "3. Parking: Group 'protected', 'off-street', and 'valet' together\n",
    "4. We should bin some of our lower count neighbhoords with neighboring ones. Let's look at average pricing for each and see which are related based on price."
   ]
  },
  {
   "cell_type": "code",
   "execution_count": 8,
   "id": "48b5ce97",
   "metadata": {},
   "outputs": [],
   "source": [
    "# # Let's check the frequency of our categorical features\n",
    "\n",
    "# def value_counter(dataframe):\n",
    "#     value_series = pd.DataFrame()\n",
    "#     for col in dataframe.select_dtypes([\"object\"]).columns:\n",
    "#         print(dataframe[col].value_counts())\n",
    "        \n",
    "        \n",
    "# value_counter(rentals_df)"
   ]
  },
  {
   "cell_type": "code",
   "execution_count": 9,
   "id": "fa731636",
   "metadata": {
    "scrolled": false
   },
   "outputs": [],
   "source": [
    "# def cat_plotter(data, target):\n",
    "#     for col in data.select_dtypes([\"object\"]).columns:\n",
    "#         sns.barplot(data=data, x=col, y=target)\n",
    "#         plt.xticks(rotation=45)\n",
    "#         plt.show()\n",
    "        \n",
    "# cat_plotter(rentals_df, \"price\")"
   ]
  },
  {
   "cell_type": "markdown",
   "id": "a9ba6364",
   "metadata": {},
   "source": [
    "# Feature Engineering\n",
    "\n",
    "1. Group Categories together\n",
    "2. Trying a Squared Term for Bedrooms, sqft, and bath"
   ]
  },
  {
   "cell_type": "code",
   "execution_count": 10,
   "id": "8a911dc6",
   "metadata": {},
   "outputs": [],
   "source": [
    "laundry_map = {\n",
    "    \"(a) in-unit\": \"in_unit\",\n",
    "    \"(b) on-site\": \"not_in_unit\",\n",
    "    \"(c) no laundry\": \"not_in_unit\",\n",
    "}\n",
    "\n",
    "pet_map = {\n",
    "    \"(a) both\": \"allows_dogs\",\n",
    "    \"(b) dogs\": \"allows_dogs\",\n",
    "    \"(c) cats\": \"no_dogs\",\n",
    "    \"(d) no pets\": \"no_dogs\"\n",
    "}\n",
    "\n",
    "\n",
    "housing_type_map = {\n",
    "    \"(a) single\": \"single\",\n",
    "    \"(b) double\": \"multi\",\n",
    "    \"(c) multi\": \"multi\",\n",
    "}\n",
    "\n",
    "district_map = {\n",
    "    1.0: \"west\",\n",
    "    2.0: \"southwest\",\n",
    "    3.0: \"southwest\",\n",
    "    4.0: \"central\",\n",
    "    5.0: \"central\",\n",
    "    6.0: \"central\",\n",
    "    7.0: \"marina\",\n",
    "    8.0: \"north beach\",\n",
    "    9.0: \"FiDi/SOMA\",\n",
    "    10.0: \"southwest\"\n",
    "    \n",
    "}"
   ]
  },
  {
   "cell_type": "code",
   "execution_count": 11,
   "id": "0b6640e0",
   "metadata": {},
   "outputs": [
    {
     "name": "stderr",
     "output_type": "stream",
     "text": [
      "/var/folders/f8/075hbnj13wb0f9yzh9k4nyz00000gn/T/ipykernel_69111/3577814233.py:15: FutureWarning: In a future version, the Index constructor will not infer numeric dtypes when passed object-dtype sequences (matching Series behavior)\n",
      "  eng_df = pd.get_dummies(eng_df, drop_first=True)\n"
     ]
    }
   ],
   "source": [
    "eng_df = rentals_df.assign(\n",
    "#     hood_district = rentals_df[\"hood_district\"].map(district_map),\n",
    "#     housing_type = rentals_df[\"housing_type\"].map(housing_type_map),\n",
    "#     pets = rentals_df[\"pets\"].map(pet_map),\n",
    "#     laundry = rentals_df[\"laundry\"].map(laundry_map),\n",
    "    sqft2 = rentals_df[\"sqft\"] ** 2,\n",
    "    sqft3 = rentals_df[\"sqft\"] ** 3,\n",
    "    beds2 = rentals_df[\"beds\"] ** 2,\n",
    "    beds3 = rentals_df[\"beds\"] ** 3,\n",
    "    bath2 = rentals_df[\"bath\"] ** 2,\n",
    "    bath3 = rentals_df[\"bath\"] ** 3,\n",
    "    beds_bath_ratio = rentals_df[\"beds\"] / rentals_df[\"bath\"]\n",
    ")\n",
    "\n",
    "eng_df = pd.get_dummies(eng_df, drop_first=True)"
   ]
  },
  {
   "cell_type": "code",
   "execution_count": 12,
   "id": "c635d8c1",
   "metadata": {},
   "outputs": [
    {
     "data": {
      "text/html": [
       "<div>\n",
       "<style scoped>\n",
       "    .dataframe tbody tr th:only-of-type {\n",
       "        vertical-align: middle;\n",
       "    }\n",
       "\n",
       "    .dataframe tbody tr th {\n",
       "        vertical-align: top;\n",
       "    }\n",
       "\n",
       "    .dataframe thead th {\n",
       "        text-align: right;\n",
       "    }\n",
       "</style>\n",
       "<table border=\"1\" class=\"dataframe\">\n",
       "  <thead>\n",
       "    <tr style=\"text-align: right;\">\n",
       "      <th></th>\n",
       "      <th>price</th>\n",
       "      <th>sqft</th>\n",
       "      <th>beds</th>\n",
       "      <th>bath</th>\n",
       "      <th>sqft2</th>\n",
       "      <th>sqft3</th>\n",
       "      <th>beds2</th>\n",
       "      <th>beds3</th>\n",
       "      <th>bath2</th>\n",
       "      <th>bath3</th>\n",
       "      <th>...</th>\n",
       "      <th>parking_(d) no parking</th>\n",
       "      <th>hood_district_2.0</th>\n",
       "      <th>hood_district_3.0</th>\n",
       "      <th>hood_district_4.0</th>\n",
       "      <th>hood_district_5.0</th>\n",
       "      <th>hood_district_6.0</th>\n",
       "      <th>hood_district_7.0</th>\n",
       "      <th>hood_district_8.0</th>\n",
       "      <th>hood_district_9.0</th>\n",
       "      <th>hood_district_10.0</th>\n",
       "    </tr>\n",
       "  </thead>\n",
       "  <tbody>\n",
       "    <tr>\n",
       "      <th>0</th>\n",
       "      <td>6800</td>\n",
       "      <td>1600.0</td>\n",
       "      <td>2.0</td>\n",
       "      <td>2.0</td>\n",
       "      <td>2560000.0</td>\n",
       "      <td>4.096000e+09</td>\n",
       "      <td>4.0</td>\n",
       "      <td>8.0</td>\n",
       "      <td>4.00</td>\n",
       "      <td>8.000</td>\n",
       "      <td>...</td>\n",
       "      <td>0</td>\n",
       "      <td>0</td>\n",
       "      <td>0</td>\n",
       "      <td>0</td>\n",
       "      <td>0</td>\n",
       "      <td>0</td>\n",
       "      <td>1</td>\n",
       "      <td>0</td>\n",
       "      <td>0</td>\n",
       "      <td>0</td>\n",
       "    </tr>\n",
       "    <tr>\n",
       "      <th>1</th>\n",
       "      <td>3500</td>\n",
       "      <td>550.0</td>\n",
       "      <td>1.0</td>\n",
       "      <td>1.0</td>\n",
       "      <td>302500.0</td>\n",
       "      <td>1.663750e+08</td>\n",
       "      <td>1.0</td>\n",
       "      <td>1.0</td>\n",
       "      <td>1.00</td>\n",
       "      <td>1.000</td>\n",
       "      <td>...</td>\n",
       "      <td>0</td>\n",
       "      <td>0</td>\n",
       "      <td>0</td>\n",
       "      <td>0</td>\n",
       "      <td>0</td>\n",
       "      <td>0</td>\n",
       "      <td>1</td>\n",
       "      <td>0</td>\n",
       "      <td>0</td>\n",
       "      <td>0</td>\n",
       "    </tr>\n",
       "    <tr>\n",
       "      <th>2</th>\n",
       "      <td>5100</td>\n",
       "      <td>1300.0</td>\n",
       "      <td>2.0</td>\n",
       "      <td>1.0</td>\n",
       "      <td>1690000.0</td>\n",
       "      <td>2.197000e+09</td>\n",
       "      <td>4.0</td>\n",
       "      <td>8.0</td>\n",
       "      <td>1.00</td>\n",
       "      <td>1.000</td>\n",
       "      <td>...</td>\n",
       "      <td>1</td>\n",
       "      <td>0</td>\n",
       "      <td>0</td>\n",
       "      <td>0</td>\n",
       "      <td>0</td>\n",
       "      <td>0</td>\n",
       "      <td>1</td>\n",
       "      <td>0</td>\n",
       "      <td>0</td>\n",
       "      <td>0</td>\n",
       "    </tr>\n",
       "    <tr>\n",
       "      <th>3</th>\n",
       "      <td>9000</td>\n",
       "      <td>3500.0</td>\n",
       "      <td>3.0</td>\n",
       "      <td>2.5</td>\n",
       "      <td>12250000.0</td>\n",
       "      <td>4.287500e+10</td>\n",
       "      <td>9.0</td>\n",
       "      <td>27.0</td>\n",
       "      <td>6.25</td>\n",
       "      <td>15.625</td>\n",
       "      <td>...</td>\n",
       "      <td>0</td>\n",
       "      <td>0</td>\n",
       "      <td>0</td>\n",
       "      <td>0</td>\n",
       "      <td>0</td>\n",
       "      <td>0</td>\n",
       "      <td>1</td>\n",
       "      <td>0</td>\n",
       "      <td>0</td>\n",
       "      <td>0</td>\n",
       "    </tr>\n",
       "    <tr>\n",
       "      <th>4</th>\n",
       "      <td>3100</td>\n",
       "      <td>561.0</td>\n",
       "      <td>1.0</td>\n",
       "      <td>1.0</td>\n",
       "      <td>314721.0</td>\n",
       "      <td>1.765585e+08</td>\n",
       "      <td>1.0</td>\n",
       "      <td>1.0</td>\n",
       "      <td>1.00</td>\n",
       "      <td>1.000</td>\n",
       "      <td>...</td>\n",
       "      <td>1</td>\n",
       "      <td>0</td>\n",
       "      <td>0</td>\n",
       "      <td>0</td>\n",
       "      <td>0</td>\n",
       "      <td>0</td>\n",
       "      <td>1</td>\n",
       "      <td>0</td>\n",
       "      <td>0</td>\n",
       "      <td>0</td>\n",
       "    </tr>\n",
       "  </tbody>\n",
       "</table>\n",
       "<p>5 rows × 30 columns</p>\n",
       "</div>"
      ],
      "text/plain": [
       "   price    sqft  beds  bath       sqft2         sqft3  beds2  beds3  bath2  \\\n",
       "0   6800  1600.0   2.0   2.0   2560000.0  4.096000e+09    4.0    8.0   4.00   \n",
       "1   3500   550.0   1.0   1.0    302500.0  1.663750e+08    1.0    1.0   1.00   \n",
       "2   5100  1300.0   2.0   1.0   1690000.0  2.197000e+09    4.0    8.0   1.00   \n",
       "3   9000  3500.0   3.0   2.5  12250000.0  4.287500e+10    9.0   27.0   6.25   \n",
       "4   3100   561.0   1.0   1.0    314721.0  1.765585e+08    1.0    1.0   1.00   \n",
       "\n",
       "    bath3  ...  parking_(d) no parking  hood_district_2.0  hood_district_3.0  \\\n",
       "0   8.000  ...                       0                  0                  0   \n",
       "1   1.000  ...                       0                  0                  0   \n",
       "2   1.000  ...                       1                  0                  0   \n",
       "3  15.625  ...                       0                  0                  0   \n",
       "4   1.000  ...                       1                  0                  0   \n",
       "\n",
       "   hood_district_4.0  hood_district_5.0  hood_district_6.0  hood_district_7.0  \\\n",
       "0                  0                  0                  0                  1   \n",
       "1                  0                  0                  0                  1   \n",
       "2                  0                  0                  0                  1   \n",
       "3                  0                  0                  0                  1   \n",
       "4                  0                  0                  0                  1   \n",
       "\n",
       "   hood_district_8.0  hood_district_9.0  hood_district_10.0  \n",
       "0                  0                  0                   0  \n",
       "1                  0                  0                   0  \n",
       "2                  0                  0                   0  \n",
       "3                  0                  0                   0  \n",
       "4                  0                  0                   0  \n",
       "\n",
       "[5 rows x 30 columns]"
      ]
     },
     "execution_count": 12,
     "metadata": {},
     "output_type": "execute_result"
    }
   ],
   "source": [
    "eng_df.head()"
   ]
  },
  {
   "cell_type": "code",
   "execution_count": 13,
   "id": "b76fcaf6",
   "metadata": {},
   "outputs": [],
   "source": [
    "from sklearn.model_selection import train_test_split\n",
    "\n",
    "target = \"price\"\n",
    "drop_cols = [\n",
    "#     \"pets_no_dogs\",\n",
    "#     \"housing_type_single\"\n",
    "]\n",
    "\n",
    "X = sm.add_constant(eng_df.drop([target] + drop_cols, axis=1))\n",
    "\n",
    "# Log transform slightly improves normality\n",
    "y = np.log(eng_df[target])\n",
    "# y = eng_df[target]\n",
    "\n",
    "# Test Split\n",
    "X, X_test, y, y_test = train_test_split(X, y, test_size=.2, random_state=2023)"
   ]
  },
  {
   "cell_type": "markdown",
   "id": "1cf72b0f",
   "metadata": {},
   "source": [
    "# Scaling Data"
   ]
  },
  {
   "cell_type": "code",
   "execution_count": 14,
   "id": "79b2838d",
   "metadata": {},
   "outputs": [],
   "source": [
    "from sklearn.preprocessing import StandardScaler\n",
    "\n",
    "std = StandardScaler()\n",
    "X_tr = std.fit_transform(X.values)\n",
    "X_te = std.transform(X_test.values)"
   ]
  },
  {
   "cell_type": "code",
   "execution_count": 15,
   "id": "13a884f2",
   "metadata": {
    "scrolled": false
   },
   "outputs": [
    {
     "name": "stdout",
     "output_type": "stream",
     "text": [
      "Cross Val R2: 0.838593191451734\n",
      "Cross Val MAE: 449.78809785101487\n",
      "Alpha: 0.13219411484660287\n"
     ]
    }
   ],
   "source": [
    "from sklearn.linear_model import RidgeCV\n",
    "\n",
    "n_alphas = 100\n",
    "alphas = 10 ** np.linspace(-3, 3, n_alphas)\n",
    "\n",
    "ridge_model = RidgeCV(alphas=alphas, cv=5)\n",
    "\n",
    "ridge_model.fit(X_tr, y)\n",
    "print(f\"Cross Val R2: {ridge_model.score(X_tr, y)}\")\n",
    "print(f\"Cross Val MAE: {mae(np.exp(y), np.exp(ridge_model.predict(X_tr)))}\")\n",
    "print(f\"Alpha: {ridge_model.alpha_}\")"
   ]
  },
  {
   "cell_type": "code",
   "execution_count": 16,
   "id": "b9eead7a",
   "metadata": {},
   "outputs": [
    {
     "data": {
      "text/plain": [
       "[('const', 0.0),\n",
       " ('sqft', 0.42771896617523025),\n",
       " ('beds', 0.08215303569593947),\n",
       " ('bath', 0.09371487268132178),\n",
       " ('sqft2', -0.33112295982958595),\n",
       " ('sqft3', 0.11335893359958782),\n",
       " ('beds2', -0.1654342782544933),\n",
       " ('beds3', 0.0918199399130907),\n",
       " ('bath2', -0.06537874836099966),\n",
       " ('bath3', 0.058336837379734746),\n",
       " ('beds_bath_ratio', 0.06102729477529018),\n",
       " ('laundry_(b) on-site', -0.038419760376628705),\n",
       " ('laundry_(c) no laundry', -0.02976713155248345),\n",
       " ('pets_(b) dogs', 0.006837484179375996),\n",
       " ('pets_(c) cats', -0.0029892295960895613),\n",
       " ('pets_(d) no pets', -0.004706036634352949),\n",
       " ('housing_type_(b) double', -0.010757739645693218),\n",
       " ('housing_type_(c) multi', -0.0029333782859908633),\n",
       " ('parking_(b) protected', -0.08372878097175306),\n",
       " ('parking_(c) off-street', -0.029978914464803084),\n",
       " ('parking_(d) no parking', -0.11016786659078776),\n",
       " ('hood_district_2.0', -0.00740287445225464),\n",
       " ('hood_district_3.0', -0.010093156137140784),\n",
       " ('hood_district_4.0', 0.002065237315987054),\n",
       " ('hood_district_5.0', 0.02851039116364049),\n",
       " ('hood_district_6.0', 0.024071495093295044),\n",
       " ('hood_district_7.0', 0.04472757138041352),\n",
       " ('hood_district_8.0', 0.013863522876213095),\n",
       " ('hood_district_9.0', 0.020802836663133085),\n",
       " ('hood_district_10.0', -0.04667729280674665)]"
      ]
     },
     "execution_count": 16,
     "metadata": {},
     "output_type": "execute_result"
    }
   ],
   "source": [
    "list(zip(X.columns, ridge_model.coef_))"
   ]
  },
  {
   "cell_type": "markdown",
   "id": "c5186a67",
   "metadata": {},
   "source": [
    "# Lasso"
   ]
  },
  {
   "cell_type": "code",
   "execution_count": 17,
   "id": "f75df4da",
   "metadata": {
    "scrolled": false
   },
   "outputs": [
    {
     "name": "stdout",
     "output_type": "stream",
     "text": [
      "Cross Val R2: 0.8129780229340178\n",
      "Cross Val MAE: 490.47394723593777\n",
      "Alpha: 0.01\n"
     ]
    }
   ],
   "source": [
    "from sklearn.linear_model import LassoCV\n",
    "\n",
    "n_alphas = 200\n",
    "alphas = 10 ** np.linspace(-2, 3, n_alphas)\n",
    "\n",
    "lasso_model = LassoCV(alphas=alphas, cv=5)\n",
    "\n",
    "lasso_model.fit(X_tr, y)\n",
    "\n",
    "print(f\"Cross Val R2: {lasso_model.score(X_tr, y)}\")\n",
    "print(f\"Cross Val MAE: {mae(np.exp(y), np.exp(lasso_model.predict(X_tr)))}\")\n",
    "print(f\"Alpha: {lasso_model.alpha_}\")"
   ]
  },
  {
   "cell_type": "code",
   "execution_count": 18,
   "id": "5a735a74",
   "metadata": {},
   "outputs": [
    {
     "data": {
      "text/plain": [
       "[('const', 0.0),\n",
       " ('sqft', 0.20409896612931414),\n",
       " ('beds', 0.0),\n",
       " ('bath', 0.08265620267301405),\n",
       " ('sqft2', -0.0),\n",
       " ('sqft3', -0.006974225557041329),\n",
       " ('beds2', -0.0),\n",
       " ('beds3', -0.0),\n",
       " ('bath2', 0.0),\n",
       " ('bath3', 0.0),\n",
       " ('beds_bath_ratio', 0.07600636348963834),\n",
       " ('laundry_(b) on-site', -0.0405011531679651),\n",
       " ('laundry_(c) no laundry', -0.029539680091455068),\n",
       " ('pets_(b) dogs', 0.0006873438790042108),\n",
       " ('pets_(c) cats', -0.0),\n",
       " ('pets_(d) no pets', -0.0),\n",
       " ('housing_type_(b) double', -0.005332280277401441),\n",
       " ('housing_type_(c) multi', 0.004875469501529802),\n",
       " ('parking_(b) protected', -0.0),\n",
       " ('parking_(c) off-street', 0.0),\n",
       " ('parking_(d) no parking', -0.03361242231604274),\n",
       " ('hood_district_2.0', -0.012463294976318992),\n",
       " ('hood_district_3.0', -0.007325466046783179),\n",
       " ('hood_district_4.0', -0.0),\n",
       " ('hood_district_5.0', 0.004126237093391836),\n",
       " ('hood_district_6.0', 0.000821209218527959),\n",
       " ('hood_district_7.0', 0.019715820333462107),\n",
       " ('hood_district_8.0', -0.002513009123186501),\n",
       " ('hood_district_9.0', 0.0),\n",
       " ('hood_district_10.0', -0.05002965944184877)]"
      ]
     },
     "execution_count": 18,
     "metadata": {},
     "output_type": "execute_result"
    }
   ],
   "source": [
    "list(zip(X.columns, lasso_model.coef_))"
   ]
  },
  {
   "cell_type": "code",
   "execution_count": 19,
   "id": "116f3e90",
   "metadata": {},
   "outputs": [],
   "source": [
    "# print(mae(np.exp(y_test), np.exp(lasso_model.predict(X_te))))\n",
    "# print(f\"Test R2: {r2(y_test, lasso_model.predict(X_te))}\")"
   ]
  },
  {
   "cell_type": "markdown",
   "id": "9fec5d1b",
   "metadata": {},
   "source": [
    "## ENET"
   ]
  },
  {
   "cell_type": "code",
   "execution_count": 20,
   "id": "f5c24904",
   "metadata": {
    "scrolled": false
   },
   "outputs": [
    {
     "name": "stdout",
     "output_type": "stream",
     "text": [
      "Cross Val R2: 0.8346175733621186\n",
      "Cross Val MAE: 457.36513834175764\n",
      "Alpha: 0.01\n",
      "L1_Ratio: 0.01\n"
     ]
    }
   ],
   "source": [
    "from sklearn.linear_model import ElasticNetCV\n",
    "\n",
    "alphas = 10 ** np.linspace(-2, 3, 200)\n",
    "l1_ratios = np.linspace(.01, 1, 100)\n",
    "\n",
    "enet_model = ElasticNetCV(alphas=alphas, l1_ratio=l1_ratios, cv=5)\n",
    "\n",
    "enet_model.fit(X_tr, y)\n",
    "\n",
    "print(f\"Cross Val R2: {enet_model.score(X_tr, y)}\")\n",
    "print(f\"Cross Val MAE: {mae(np.exp(y), np.exp(enet_model.predict(X_tr)))}\")\n",
    "print(f\"Alpha: {enet_model.alpha_}\")\n",
    "print(f\"L1_Ratio: {enet_model.l1_ratio_}\")"
   ]
  },
  {
   "cell_type": "markdown",
   "id": "cad7bc04",
   "metadata": {},
   "source": [
    "# Final Model Test"
   ]
  },
  {
   "cell_type": "code",
   "execution_count": 21,
   "id": "8fcb5d02",
   "metadata": {},
   "outputs": [
    {
     "name": "stdout",
     "output_type": "stream",
     "text": [
      "Test MAE: 422.24068172028757\n",
      "Test R2: 0.7988883883318496\n"
     ]
    }
   ],
   "source": [
    "print(f\"Test MAE: {mae(np.exp(y_test), np.exp(ridge_model.predict(X_te)))}\")\n",
    "print(f\"Test R2: {r2(y_test, ridge_model.predict(X_te))}\")"
   ]
  },
  {
   "cell_type": "code",
   "execution_count": null,
   "id": "cebb4d81",
   "metadata": {},
   "outputs": [],
   "source": []
  }
 ],
 "metadata": {
  "kernelspec": {
   "display_name": "Python 3 (ipykernel)",
   "language": "python",
   "name": "python3"
  },
  "language_info": {
   "codemirror_mode": {
    "name": "ipython",
    "version": 3
   },
   "file_extension": ".py",
   "mimetype": "text/x-python",
   "name": "python",
   "nbconvert_exporter": "python",
   "pygments_lexer": "ipython3",
   "version": "3.11.3"
  }
 },
 "nbformat": 4,
 "nbformat_minor": 5
}
