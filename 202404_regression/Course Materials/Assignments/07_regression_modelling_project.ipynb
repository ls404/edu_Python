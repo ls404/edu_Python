{
 "cells": [
  {
   "cell_type": "markdown",
   "id": "ab65c870",
   "metadata": {},
   "source": [
    "## Regression Project\n",
    "\n",
    "Build a linear regression model that predicts the `price` column in the dataset on San Francisco Apartment rentals. Make sure to go through all the the relevant steps of the modelling workflow.\n",
    "\n",
    "1. Data Cleaning has already been performed on this data\n",
    "2. Explore the data, keeping an eye on useful features and potential issues \n",
    "3. Choose a model validation scheme (simple or cross validation)\n",
    "4. Fit a Linear Regression Model\n",
    "5. Evaluate your model - check assumptions, metrics, and coefficient estimates\n",
    "6. Engineer Features as needed\n",
    "7. Repeat Steps 2, 4, 5, 6 as needed\n",
    "8. Once you are ready, fit your final model and report final model performance estimate by scoring on the test data. Report both test R-squared and MAE.\n",
    "\n",
    "A reasonable goal is to get a validation MAE of <= 500 dollars.\n",
    "\n",
    "Advice:\n",
    "\n",
    "1. \"Perfect\" is the enemy of \"Good\".\n",
    "2. You will not get to an MAE of 0, we don't have perfect data, and there is some randomness and emotion in how things like apartment prices are set. \n",
    "3. Modelling is challenging, especially if you're new. There isn't a \"right\" answer, but some models are better than others. Remember - \"All Models are wrong, but some are useful\" \n",
    "4. We will likely end up with different models and performance metrics, and that's ok. You can always implement new ideas after watching the solution video. I didn't do anything too fancy, so you might think of some great ideas I didn't!\n",
    "5. Enjoy the process, and remember that at some point it's time to let the model go. No amount of feature engineering will achieve a perfect model."
   ]
  },
  {
   "cell_type": "code",
   "execution_count": 29,
   "id": "7cb398c6",
   "metadata": {},
   "outputs": [
    {
     "data": {
      "text/html": [
       "<div>\n",
       "<style scoped>\n",
       "    .dataframe tbody tr th:only-of-type {\n",
       "        vertical-align: middle;\n",
       "    }\n",
       "\n",
       "    .dataframe tbody tr th {\n",
       "        vertical-align: top;\n",
       "    }\n",
       "\n",
       "    .dataframe thead th {\n",
       "        text-align: right;\n",
       "    }\n",
       "</style>\n",
       "<table border=\"1\" class=\"dataframe\">\n",
       "  <thead>\n",
       "    <tr style=\"text-align: right;\">\n",
       "      <th></th>\n",
       "      <th>price</th>\n",
       "      <th>sqft</th>\n",
       "      <th>beds</th>\n",
       "      <th>bath</th>\n",
       "      <th>laundry</th>\n",
       "      <th>pets</th>\n",
       "      <th>housing_type</th>\n",
       "      <th>parking</th>\n",
       "      <th>hood_district</th>\n",
       "    </tr>\n",
       "  </thead>\n",
       "  <tbody>\n",
       "    <tr>\n",
       "      <th>0</th>\n",
       "      <td>6800</td>\n",
       "      <td>1600.0</td>\n",
       "      <td>2.0</td>\n",
       "      <td>2.0</td>\n",
       "      <td>(a) in-unit</td>\n",
       "      <td>(d) no pets</td>\n",
       "      <td>(c) multi</td>\n",
       "      <td>(b) protected</td>\n",
       "      <td>7.0</td>\n",
       "    </tr>\n",
       "    <tr>\n",
       "      <th>1</th>\n",
       "      <td>3500</td>\n",
       "      <td>550.0</td>\n",
       "      <td>1.0</td>\n",
       "      <td>1.0</td>\n",
       "      <td>(a) in-unit</td>\n",
       "      <td>(a) both</td>\n",
       "      <td>(c) multi</td>\n",
       "      <td>(b) protected</td>\n",
       "      <td>7.0</td>\n",
       "    </tr>\n",
       "    <tr>\n",
       "      <th>2</th>\n",
       "      <td>5100</td>\n",
       "      <td>1300.0</td>\n",
       "      <td>2.0</td>\n",
       "      <td>1.0</td>\n",
       "      <td>(a) in-unit</td>\n",
       "      <td>(a) both</td>\n",
       "      <td>(c) multi</td>\n",
       "      <td>(d) no parking</td>\n",
       "      <td>7.0</td>\n",
       "    </tr>\n",
       "    <tr>\n",
       "      <th>3</th>\n",
       "      <td>9000</td>\n",
       "      <td>3500.0</td>\n",
       "      <td>3.0</td>\n",
       "      <td>2.5</td>\n",
       "      <td>(a) in-unit</td>\n",
       "      <td>(d) no pets</td>\n",
       "      <td>(c) multi</td>\n",
       "      <td>(b) protected</td>\n",
       "      <td>7.0</td>\n",
       "    </tr>\n",
       "    <tr>\n",
       "      <th>4</th>\n",
       "      <td>3100</td>\n",
       "      <td>561.0</td>\n",
       "      <td>1.0</td>\n",
       "      <td>1.0</td>\n",
       "      <td>(c) no laundry</td>\n",
       "      <td>(a) both</td>\n",
       "      <td>(c) multi</td>\n",
       "      <td>(d) no parking</td>\n",
       "      <td>7.0</td>\n",
       "    </tr>\n",
       "  </tbody>\n",
       "</table>\n",
       "</div>"
      ],
      "text/plain": [
       "   price    sqft  beds  bath         laundry         pets housing_type  \\\n",
       "0   6800  1600.0   2.0   2.0     (a) in-unit  (d) no pets    (c) multi   \n",
       "1   3500   550.0   1.0   1.0     (a) in-unit     (a) both    (c) multi   \n",
       "2   5100  1300.0   2.0   1.0     (a) in-unit     (a) both    (c) multi   \n",
       "3   9000  3500.0   3.0   2.5     (a) in-unit  (d) no pets    (c) multi   \n",
       "4   3100   561.0   1.0   1.0  (c) no laundry     (a) both    (c) multi   \n",
       "\n",
       "          parking  hood_district  \n",
       "0   (b) protected            7.0  \n",
       "1   (b) protected            7.0  \n",
       "2  (d) no parking            7.0  \n",
       "3   (b) protected            7.0  \n",
       "4  (d) no parking            7.0  "
      ]
     },
     "execution_count": 29,
     "metadata": {},
     "output_type": "execute_result"
    }
   ],
   "source": [
    "import pandas as pd\n",
    "import numpy as np\n",
    "import matplotlib.pyplot as plt\n",
    "import seaborn as sns\n",
    "\n",
    "import statsmodels.api as sm\n",
    "from sklearn.model_selection import KFold\n",
    "from sklearn.metrics import r2_score as r2, mean_absolute_error as mae, mean_squared_error as mse\n",
    "\n",
    "rentals_df = pd.read_csv(\"../Data/sf_clean.csv\") \n",
    "rentals_df.head()"
   ]
  },
  {
   "cell_type": "markdown",
   "id": "71dcbc2d",
   "metadata": {},
   "source": [
    "### Data Dictionary\n",
    "\n",
    "1. Price: The price of the rental and our target variable\n",
    "2. sqft: The area in square feet of the rental\n",
    "3. beds: The number of bedrooms in the rental\n",
    "4. bath: The number of bathrooms in the rental\n",
    "5. laundry: Does the rental have a laundry machine inside the house, a shared laundry machine, or no laundry on site?\n",
    "6. pets: Does the rental allow pets? Cats only, dogs only or both cats and dogs?\n",
    "7. Housing type: Is the rental in a multi-unit building, a building with two units, or a stand alone house? \n",
    "8. Parking: Does the apartment off a parking space? No, protected in a garage, off-street in a parking lot, or valet service?\n",
    "9. Hood district: Which part of San Francisco is the apartment located?\n",
    "\n",
    "![image info](SFAR_map.png)"
   ]
  },
  {
   "cell_type": "code",
   "execution_count": 30,
   "id": "0498eeef",
   "metadata": {},
   "outputs": [
    {
     "name": "stdout",
     "output_type": "stream",
     "text": [
      "<class 'pandas.core.frame.DataFrame'>\n",
      "RangeIndex: 989 entries, 0 to 988\n",
      "Data columns (total 9 columns):\n",
      " #   Column         Non-Null Count  Dtype  \n",
      "---  ------         --------------  -----  \n",
      " 0   price          989 non-null    int64  \n",
      " 1   sqft           989 non-null    float64\n",
      " 2   beds           989 non-null    float64\n",
      " 3   bath           989 non-null    float64\n",
      " 4   laundry        989 non-null    object \n",
      " 5   pets           989 non-null    object \n",
      " 6   housing_type   989 non-null    object \n",
      " 7   parking        989 non-null    object \n",
      " 8   hood_district  989 non-null    float64\n",
      "dtypes: float64(4), int64(1), object(4)\n",
      "memory usage: 69.7+ KB\n"
     ]
    }
   ],
   "source": [
    "rentals_df.info()"
   ]
  },
  {
   "cell_type": "markdown",
   "id": "f9c7b82d",
   "metadata": {},
   "source": [
    "## EDA\n"
   ]
  },
  {
   "cell_type": "code",
   "execution_count": null,
   "id": "590cd22f",
   "metadata": {},
   "outputs": [],
   "source": []
  },
  {
   "cell_type": "markdown",
   "id": "00952509",
   "metadata": {},
   "source": [
    "## Feature Engineering\n"
   ]
  },
  {
   "cell_type": "code",
   "execution_count": null,
   "id": "5415cbae",
   "metadata": {},
   "outputs": [],
   "source": []
  },
  {
   "cell_type": "markdown",
   "id": "50752f8e",
   "metadata": {},
   "source": [
    "## Data Splitting"
   ]
  },
  {
   "cell_type": "code",
   "execution_count": 21,
   "id": "68a66cf2",
   "metadata": {},
   "outputs": [],
   "source": []
  },
  {
   "cell_type": "markdown",
   "id": "0117d1e6",
   "metadata": {},
   "source": [
    "## Model Fitting & Validation Scoring"
   ]
  },
  {
   "cell_type": "code",
   "execution_count": null,
   "id": "a43a2df6",
   "metadata": {},
   "outputs": [],
   "source": []
  },
  {
   "cell_type": "markdown",
   "id": "5cd00418",
   "metadata": {},
   "source": [
    "## Assumptions Checking"
   ]
  },
  {
   "cell_type": "code",
   "execution_count": null,
   "id": "2ce961f6",
   "metadata": {},
   "outputs": [],
   "source": []
  },
  {
   "cell_type": "markdown",
   "id": "29894141",
   "metadata": {},
   "source": [
    "## Final Model Fit & Test Scoring"
   ]
  },
  {
   "cell_type": "code",
   "execution_count": null,
   "id": "aefd0a01",
   "metadata": {},
   "outputs": [],
   "source": []
  }
 ],
 "metadata": {
  "kernelspec": {
   "display_name": "Python 3 (ipykernel)",
   "language": "python",
   "name": "python3"
  },
  "language_info": {
   "codemirror_mode": {
    "name": "ipython",
    "version": 3
   },
   "file_extension": ".py",
   "mimetype": "text/x-python",
   "name": "python",
   "nbconvert_exporter": "python",
   "pygments_lexer": "ipython3",
   "version": "3.11.3"
  }
 },
 "nbformat": 4,
 "nbformat_minor": 5
}
